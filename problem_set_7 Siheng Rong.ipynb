{
 "cells": [
  {
   "cell_type": "markdown",
   "metadata": {},
   "source": [
    "## Q1  Nurse Scheduling"
   ]
  },
  {
   "cell_type": "markdown",
   "metadata": {},
   "source": [
    "### Step 1\n",
    "\n",
    "**Decision:** Number of nurses who start to work in each shift\n",
    "\n",
    "**Objective:** Minimize the total number of nurses\n",
    "\n",
    "\n",
    "**Constraints:** \n",
    "\n",
    "- Minimum number of nurses needed for Shift 1, 2, 3, 4, 5, 6 is 5, 12, 14, 8, 14, 10, respectively.\n",
    "- Nurses work 8 hours a day in two consecutive shifts. \n",
    "- A nurse who starts at the 8pm-Midnight shift would finish work on the next day’s Midnight-4am shift"
   ]
  },
  {
   "cell_type": "markdown",
   "metadata": {},
   "source": [
    "### Step 2\n",
    "\n",
    "**Decision:** Let X1, X2, X3, X4, X5, X6 denote the number of nurses who start to work in each shift 1, 2, 3, 4, 5, 6.\n",
    "\n",
    "**Objective:** Minimize: X1 + X2 + X3 + X4 + X5 + X6\n",
    "\n",
    "\n",
    "**Constraints:** \n",
    "\n",
    "- X1 + X2 >= 12\n",
    "- X2 + X3 >= 14\n",
    "- X3 + X4 >= 8\n",
    "- X4 + X5 >= 14\n",
    "- X5 + X6 >= 10\n",
    "- X6 + X1 >= 5"
   ]
  },
  {
   "cell_type": "markdown",
   "metadata": {},
   "source": [
    "## Q2 Off-Campus Security"
   ]
  },
  {
   "cell_type": "markdown",
   "metadata": {},
   "source": [
    "**a)** Which intersections to station staff\n",
    "\n",
    "**b)** Minimize the total number of staff needed, in other words, the total number of intersections that have a staff stationed.\n",
    "\n",
    "**c)** At least one of A, B, and E must have a staff directly stationed.\n",
    "\n",
    "**d)**\\\n",
    "**Decision:** Let XA, XB, ..., XJ denote whether to station a staff at each intersection.(Binary)\n",
    "\n",
    "**Objective:** Minimize: XA + XB + XC + ... + XJ\n",
    "\n",
    "\n",
    "**Constraints:** \n",
    "\n",
    "- XA + XB <= 1\n",
    "- XE + XF + XG + XH >= 3\n",
    "- XJ = 0\n",
    "- XD + XH + XJ <= 2 \n",
    "- XA + XB + XE >= 1\n",
    "- XA + XB + XC + XF >= 1\n",
    "- XB + XC + XD + XG >= 1\n",
    "- XD + XC + XH >= 1\n",
    "- XA + XE + XF + XI >= 1\n",
    "- XB + XG + XE + XF + XI >= 1\n",
    "- XC + XH + XG + XF + XI >= 1\n",
    "- XD + XG + XH + XJ >= 1\n",
    "- XG + XE + XF + XI + XJ >= 1\n",
    "- XH + XI + XJ >= 1\n",
    "\n"
   ]
  },
  {
   "cell_type": "markdown",
   "metadata": {},
   "source": [
    "## Q3  Course Selection"
   ]
  },
  {
   "cell_type": "markdown",
   "metadata": {},
   "source": [
    "**Decision:**\n",
    "- A1, A2: Take Course A in Semester 1 or Semester 2 (Binary)\n",
    "- B1, B2: Take Course B in Semester 1 or Semester 2 (Binary)\n",
    "- C1, C2: Take Course C in Semester 1 or Semester 2 (Binary)\n",
    "- D1, D2: Take Course D in Semester 1 or Semester 2 (Binary)\n",
    "- E1, E2: Take Course E in Semester 1 or Semester 2 (Binary)\n",
    "\n",
    "**Objective:** Maximize: 5A1 + 5A2 + 3B1 + 3B2 + 2C1 + 2C2 + 4D1 + 4D2 + 5E1 + 5E2\n",
    "\n",
    "\n",
    "**Constraints:** \n",
    "\n",
    "- A1 + A2 <= 1\n",
    "- B1 + B2 <= 1\n",
    "- C2 = 0\n",
    "- D1 = 0\n",
    "- E1 + E2 <= 1\n",
    "- 15A1 + 10B1 + 10C1 + 5D1 + 10E1 <= 20\n",
    "- 15A2 + 10B2 + 10C2 + 5D2 + 10E2 <= 15\n",
    "- A1 + B1 <= 1\n",
    "- C1 + D1 <= 1\n",
    "- D1 + E1 <= 1\n",
    "- B2 + D2 + E2 <= 1\n",
    "- A1 >= D2\n",
    "- A1 >= E1\n",
    "- A1 >= E2\n",
    "- A2 >= E2\n",
    "- E1 + A2 <= 1"
   ]
  },
  {
   "cell_type": "markdown",
   "metadata": {},
   "source": []
  }
 ],
 "metadata": {
  "language_info": {
   "name": "python"
  },
  "orig_nbformat": 4
 },
 "nbformat": 4,
 "nbformat_minor": 2
}
