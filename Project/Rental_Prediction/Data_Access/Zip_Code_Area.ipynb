{
 "cells": [
  {
   "cell_type": "code",
   "execution_count": 3,
   "metadata": {},
   "outputs": [],
   "source": [
    "import censusdata\n",
    "import pandas as pd\n",
    "import numpy as np"
   ]
  },
  {
   "cell_type": "code",
   "execution_count": 4,
   "metadata": {},
   "outputs": [],
   "source": [
    "def get_zipcode_area(state, region):\n",
    "    from uszipcode import SearchEngine\n",
    "    engine = SearchEngine()\n",
    "    area_dic = {}\n",
    "    zipcodes = engine.by_state(state, returns = 100000)\n",
    "    for zipcode in zipcodes:\n",
    "        area_dic[zipcode.zipcode] = zipcode.land_area_in_sqmi\n",
    "    zipcode_area = pd.DataFrame(area_dic.items(), columns=['Zipcode','Area'])\n",
    "    zipcode_area['State'] = zipcode.state\n",
    "    zipcode_area['Region'] = region\n",
    "    \n",
    "    return zipcode_area"
   ]
  },
  {
   "cell_type": "markdown",
   "metadata": {},
   "source": [
    "## Region1: Florida"
   ]
  },
  {
   "cell_type": "code",
   "execution_count": 5,
   "metadata": {},
   "outputs": [
    {
     "data": {
      "text/plain": [
       "(933, 4)"
      ]
     },
     "execution_count": 5,
     "metadata": {},
     "output_type": "execute_result"
    }
   ],
   "source": [
    "FL_zipcode_area = get_zipcode_area('florida', \"FL\")\n",
    "FL_zipcode_area.shape"
   ]
  },
  {
   "cell_type": "code",
   "execution_count": 6,
   "metadata": {},
   "outputs": [
    {
     "data": {
      "text/plain": [
       "Zipcode     0\n",
       "Area       26\n",
       "State       0\n",
       "Region      0\n",
       "dtype: int64"
      ]
     },
     "execution_count": 6,
     "metadata": {},
     "output_type": "execute_result"
    }
   ],
   "source": [
    "FL_zipcode_area = get_zipcode_area('florida', \"FL\")\n",
    "FL_zipcode_area.isnull().sum()"
   ]
  },
  {
   "cell_type": "code",
   "execution_count": 7,
   "metadata": {},
   "outputs": [
    {
     "data": {
      "text/plain": [
       "48.288357221609665"
      ]
     },
     "execution_count": 7,
     "metadata": {},
     "output_type": "execute_result"
    }
   ],
   "source": [
    "FL_zipcode_area['Area'].mean(skipna=True)"
   ]
  },
  {
   "cell_type": "code",
   "execution_count": 8,
   "metadata": {},
   "outputs": [],
   "source": [
    "FL_zipcode_area['Area'] = FL_zipcode_area['Area'].fillna(FL_zipcode_area['Area'].mean(skipna=True))"
   ]
  },
  {
   "cell_type": "code",
   "execution_count": null,
   "metadata": {},
   "outputs": [],
   "source": [
    "FL_zipcode_area.to_csv('FL_zipcode_area_new.csv')"
   ]
  },
  {
   "cell_type": "markdown",
   "metadata": {},
   "source": [
    "## Region2: SouthEast"
   ]
  },
  {
   "cell_type": "code",
   "execution_count": null,
   "metadata": {},
   "outputs": [],
   "source": [
    "GA_zipcode_area = get_zipcode_area('georgia', \"South East\")\n",
    "NC_zipcode_area = get_zipcode_area('north carolina', \"South East\")\n",
    "SC_zipcode_area = get_zipcode_area('south carolina', \"South East\")\n",
    "AL_zipcode_area = get_zipcode_area('alabama', \"South East\")"
   ]
  },
  {
   "cell_type": "code",
   "execution_count": null,
   "metadata": {},
   "outputs": [],
   "source": [
    "GA_zipcode_area['Area'] = GA_zipcode_area['Area'].fillna(GA_zipcode_area['Area'].mean(skipna=True))\n",
    "NC_zipcode_area['Area'] = NC_zipcode_area['Area'].fillna(NC_zipcode_area['Area'].mean(skipna=True))\n",
    "SC_zipcode_area['Area'] = SC_zipcode_area['Area'].fillna(SC_zipcode_area['Area'].mean(skipna=True))\n",
    "AL_zipcode_area['Area'] = AL_zipcode_area['Area'].fillna(AL_zipcode_area['Area'].mean(skipna=True))"
   ]
  },
  {
   "cell_type": "code",
   "execution_count": null,
   "metadata": {},
   "outputs": [],
   "source": [
    "pdList = [GA_zipcode_area, NC_zipcode_area, SC_zipcode_area, AL_zipcode_area]\n",
    "SouthEast_zipcode_area = pd.concat(pdList)\n",
    "SouthEast_zipcode_area"
   ]
  },
  {
   "cell_type": "code",
   "execution_count": null,
   "metadata": {},
   "outputs": [],
   "source": [
    "SouthEast_zipcode_area.to_csv('SouthEast_zipcode_area_new.csv')"
   ]
  },
  {
   "cell_type": "markdown",
   "metadata": {},
   "source": [
    "## Region3: South"
   ]
  },
  {
   "cell_type": "code",
   "execution_count": null,
   "metadata": {},
   "outputs": [],
   "source": [
    "AR_zipcode_area = get_zipcode_area('arkansas', \"South\")\n",
    "IN_zipcode_area = get_zipcode_area('indiana', \"South\")\n",
    "KY_zipcode_area = get_zipcode_area('kentucky', \"South\")\n",
    "LA_zipcode_area = get_zipcode_area('louisiana', \"South\")\n",
    "MS_zipcode_area = get_zipcode_area('mississippi', \"South\")\n",
    "TN_zipcode_area = get_zipcode_area('tennessee', \"South\")"
   ]
  },
  {
   "cell_type": "code",
   "execution_count": null,
   "metadata": {},
   "outputs": [],
   "source": [
    "AR_zipcode_area['Area'] = AR_zipcode_area['Area'].fillna(AR_zipcode_area['Area'].mean(skipna=True))\n",
    "IN_zipcode_area['Area'] = IN_zipcode_area['Area'].fillna(IN_zipcode_area['Area'].mean(skipna=True))\n",
    "KY_zipcode_area['Area'] = KY_zipcode_area['Area'].fillna(KY_zipcode_area['Area'].mean(skipna=True))\n",
    "LA_zipcode_area['Area'] = LA_zipcode_area['Area'].fillna(LA_zipcode_area['Area'].mean(skipna=True))\n",
    "MS_zipcode_area['Area'] = MS_zipcode_area['Area'].fillna(MS_zipcode_area['Area'].mean(skipna=True))\n",
    "TN_zipcode_area['Area'] = TN_zipcode_area['Area'].fillna(TN_zipcode_area['Area'].mean(skipna=True))"
   ]
  },
  {
   "cell_type": "code",
   "execution_count": null,
   "metadata": {},
   "outputs": [],
   "source": [
    "pdList = [GA_zipcode_area, AL_zipcode_area, AR_zipcode_area, IN_zipcode_area, KY_zipcode_area, LA_zipcode_area,\n",
    "          MS_zipcode_area, TN_zipcode_area]\n",
    "South_zipcode_area = pd.concat(pdList)\n",
    "South_zipcode_area"
   ]
  },
  {
   "cell_type": "code",
   "execution_count": null,
   "metadata": {},
   "outputs": [],
   "source": [
    "South_zipcode_area.to_csv('South_zipcode_area_new.csv')"
   ]
  },
  {
   "cell_type": "markdown",
   "metadata": {},
   "source": [
    "## Region4: SouthWest"
   ]
  },
  {
   "cell_type": "code",
   "execution_count": null,
   "metadata": {},
   "outputs": [],
   "source": [
    "NM_zipcode_area = get_zipcode_area('new mexico', \"South West\")\n",
    "OK_zipcode_area = get_zipcode_area('oklahoma', \"South West\")\n",
    "TX_zipcode_area = get_zipcode_area('texas', \"South West\")"
   ]
  },
  {
   "cell_type": "code",
   "execution_count": null,
   "metadata": {},
   "outputs": [],
   "source": [
    "NM_zipcode_area['Area'] = NM_zipcode_area['Area'].fillna(NM_zipcode_area['Area'].mean(skipna=True))\n",
    "OK_zipcode_area['Area'] = OK_zipcode_area['Area'].fillna(OK_zipcode_area['Area'].mean(skipna=True))\n",
    "TX_zipcode_area['Area'] = TX_zipcode_area['Area'].fillna(TX_zipcode_area['Area'].mean(skipna=True))"
   ]
  },
  {
   "cell_type": "code",
   "execution_count": null,
   "metadata": {},
   "outputs": [],
   "source": [
    "pdList = [NM_zipcode_area, OK_zipcode_area, TX_zipcode_area]\n",
    "SouthWest_zipcode_area = pd.concat(pdList)\n",
    "SouthWest_zipcode_area"
   ]
  },
  {
   "cell_type": "code",
   "execution_count": null,
   "metadata": {},
   "outputs": [],
   "source": [
    "SouthWest_zipcode_area.to_csv('SouthWest_zipcode_area_new.csv')"
   ]
  },
  {
   "cell_type": "markdown",
   "metadata": {},
   "source": [
    "## Region5: Western"
   ]
  },
  {
   "cell_type": "code",
   "execution_count": null,
   "metadata": {},
   "outputs": [],
   "source": [
    "AZ_zipcode_area = get_zipcode_area('arizona', \"Western\")\n",
    "CO_zipcode_area = get_zipcode_area('colorado', \"Western\")\n",
    "ID_zipcode_area = get_zipcode_area('idaho', \"Western\")\n",
    "MT_zipcode_area = get_zipcode_area('montana', \"Western\")\n",
    "NV_zipcode_area = get_zipcode_area('nevada', \"Western\")\n",
    "OR_zipcode_area = get_zipcode_area('oregon', \"Western\")\n",
    "UT_zipcode_area = get_zipcode_area('utah', \"Western\")\n",
    "WY_zipcode_area = get_zipcode_area('wyoming', \"Western\")"
   ]
  },
  {
   "cell_type": "code",
   "execution_count": null,
   "metadata": {},
   "outputs": [],
   "source": [
    "AZ_zipcode_area['Area'] = AZ_zipcode_area['Area'].fillna(AZ_zipcode_area['Area'].mean(skipna=True))\n",
    "CO_zipcode_area['Area'] = CO_zipcode_area['Area'].fillna(CO_zipcode_area['Area'].mean(skipna=True))\n",
    "ID_zipcode_area['Area'] = ID_zipcode_area['Area'].fillna(ID_zipcode_area['Area'].mean(skipna=True))\n",
    "MT_zipcode_area['Area'] = MT_zipcode_area['Area'].fillna(MT_zipcode_area['Area'].mean(skipna=True))\n",
    "NV_zipcode_area['Area'] = NV_zipcode_area['Area'].fillna(NV_zipcode_area['Area'].mean(skipna=True))\n",
    "OR_zipcode_area['Area'] = OR_zipcode_area['Area'].fillna(OR_zipcode_area['Area'].mean(skipna=True))\n",
    "UT_zipcode_area['Area'] = UT_zipcode_area['Area'].fillna(UT_zipcode_area['Area'].mean(skipna=True))\n",
    "WY_zipcode_area['Area'] = WY_zipcode_area['Area'].fillna(WY_zipcode_area['Area'].mean(skipna=True))"
   ]
  },
  {
   "cell_type": "code",
   "execution_count": null,
   "metadata": {},
   "outputs": [],
   "source": [
    "pdList = [AZ_zipcode_area, CO_zipcode_area, ID_zipcode_area, MT_zipcode_area, NV_zipcode_area, OR_zipcode_area,\n",
    "          UT_zipcode_area, WY_zipcode_area, NM_zipcode_area]\n",
    "Western_zipcode_area = pd.concat(pdList)\n",
    "Western_zipcode_area"
   ]
  },
  {
   "cell_type": "code",
   "execution_count": null,
   "metadata": {},
   "outputs": [],
   "source": [
    "Western_zipcode_area.to_csv('Western_zipcode_area_new.csv')"
   ]
  },
  {
   "cell_type": "markdown",
   "metadata": {},
   "source": [
    "## Region6: California"
   ]
  },
  {
   "cell_type": "code",
   "execution_count": null,
   "metadata": {},
   "outputs": [],
   "source": [
    "CA_zipcode_area = get_zipcode_area('california', \"CA\")\n",
    "CA_zipcode_area['Area'] = CA_zipcode_area['Area'].fillna(CA_zipcode_area['Area'].mean(skipna=True))"
   ]
  },
  {
   "cell_type": "code",
   "execution_count": null,
   "metadata": {},
   "outputs": [],
   "source": [
    "CA_zipcode_area.to_csv('CA_zipcode_area_new.csv')"
   ]
  },
  {
   "cell_type": "code",
   "execution_count": null,
   "metadata": {},
   "outputs": [],
   "source": []
  }
 ],
 "metadata": {
  "kernelspec": {
   "display_name": "Python 3",
   "language": "python",
   "name": "python3"
  },
  "language_info": {
   "codemirror_mode": {
    "name": "ipython",
    "version": 3
   },
   "file_extension": ".py",
   "mimetype": "text/x-python",
   "name": "python",
   "nbconvert_exporter": "python",
   "pygments_lexer": "ipython3",
   "version": "3.8.5"
  }
 },
 "nbformat": 4,
 "nbformat_minor": 4
}
