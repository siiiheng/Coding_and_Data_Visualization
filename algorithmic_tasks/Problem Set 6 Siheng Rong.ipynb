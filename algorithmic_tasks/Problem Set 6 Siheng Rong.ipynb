{
 "cells": [
  {
   "cell_type": "markdown",
   "metadata": {},
   "source": [
    "Q1 Production Planning"
   ]
  },
  {
   "cell_type": "markdown",
   "metadata": {},
   "source": [
    "a)\n",
    "\n",
    "\n",
    "Decision:\n",
    "- Quantity of full-size ovens to produce and quantity of compact ovens to produce\n",
    "\n",
    "Objective:\n",
    "- We want to maximize the total earnings of both models\n",
    "\n",
    "Constraints:\n",
    "- There are 500 hours of general assembly labor available and 800 hours of electronic assembly labor available.\n",
    "- The company can sell at most 220 full-size ovens and 180 compact ovens."
   ]
  },
  {
   "cell_type": "markdown",
   "metadata": {},
   "source": [
    "b)\n",
    "\n",
    "\n",
    "Decision:\n",
    "- X: the quantity of full-size ovens to produce\n",
    "- Y: the quantity of compact ovens to produce\n",
    "\n",
    "Objective:\n",
    "- Maximize: 120X + 130Y\n",
    "\n",
    "Constraints:\n",
    "- 2X + Y <= 500\n",
    "- 2X + 3Y <= 800\n",
    "- X <= 220\n",
    "- Y <= 180"
   ]
  },
  {
   "cell_type": "markdown",
   "metadata": {},
   "source": [
    "Q2 Portfolio Planning"
   ]
  },
  {
   "cell_type": "markdown",
   "metadata": {},
   "source": [
    "a)\n",
    "\n",
    "\n",
    "Decision:\n",
    "- Amounts to be invested in Fund A, B, C, D, and E\n",
    "\n",
    "Objective:\n",
    "- We want to maximize the total annual return\n",
    "\n",
    "Constraints:\n",
    "- The average risk level of the entire investment should not exceed 2.5. \n",
    "- At least 30% of the money invetsed should be placed in money market funds.\n",
    "- At most 2,000 dollars should be invested in the aggressive growth fund.\n",
    "- The total amount of initial investment should be between 5,000 and 10,000 dollars (inclusive)."
   ]
  },
  {
   "cell_type": "markdown",
   "metadata": {},
   "source": [
    "b)\n",
    "\n",
    "\n",
    "Decision:\n",
    "- Xa: the amount to be invested in Fund A\n",
    "- Xb: the amount to be invested in Fund B\n",
    "- Xc: the amount to be invested in Fund C\n",
    "- Xd: the amount to be invested in Fund D\n",
    "- Xe: the amount to be invested in Fund E\n",
    "\n",
    "Objective:\n",
    "- Maximize: 4.50%Xa + 5.62%Xb + 6.80%Xc + 10.15%Xd + 20.60%Xe\n",
    "\n",
    "Constraints:\n",
    "- (Xa + 2Xb + 3Xc + 4Xd + 5Xe) / (Xa + Xb + Xc + Xd + Xe) <= 2.5\n",
    "- Xa + Xb >= 30%(Xa + Xb + Xc + Xd + Xe)\n",
    "- Xe <= 2000\n",
    "- 5000 <= (Xa + Xb + Xc + Xd + Xe) <= 10000"
   ]
  },
  {
   "cell_type": "markdown",
   "metadata": {},
   "source": [
    "Q3 Assignment of Consultants to Projects"
   ]
  },
  {
   "cell_type": "markdown",
   "metadata": {},
   "source": [
    "a)\n",
    "\n",
    "\n",
    "Decision:\n",
    "- Who should be assigned to project 1 and who should be assigned to project 2\n",
    "\n",
    "Objective:\n",
    "- We want to maximize the total fitness of the consultants to their assigned project\n",
    "\n",
    "Constraints:\n",
    "- Each consultant can be assigned to at most one project. \n",
    "- Each project requires at least two consultants.\n",
    "- Each project requires at least one senior."
   ]
  },
  {
   "cell_type": "markdown",
   "metadata": {},
   "source": [
    "b)\n",
    "\n",
    "\n",
    "Decision:\n",
    "- Xa, Ya: if Alice is assigned to Project 1, Xa = 1, if not, Xa = 0; if assigned to Project 2, Ya = 1, if not, Ya = 0\n",
    "- Xb, Yb: if Bob is assigned to Project 1, Xb = 1, if not, Xb = 0; if assigned to Project 2, Yb = 1, if not, Yb = 0\n",
    "- Xc, Yc: if Charles is assigned to Project 1, Xc = 1, if not, Xc = 0; if assigned to Project 2, Yc = 1, if not, Yc = 0\n",
    "- Xd, Yd: if Daphne is assigned to Project 1, Xd = 1, if not, Xd = 0; if assigned to Project 2, Yd = 1, if not, Yd = 0\n",
    "\n",
    "Objective:\n",
    "- Maximize: 5Xa + 2Ya + 3Xb + 2Yb + 4Xc + 5Yc + 3Xd + Yd\n",
    "\n",
    "Constraints:\n",
    "- Xa + Ya <= 1, Xb + Yb <= 1, Xc + Yc <= 1, Xd + Yd <= 1\n",
    "- Xa + Xb + Xc + Xd >= 2, Ya + Yb + Yc + Yd >= 2\n",
    "- Xa + Xb + Xd >= 1, Ya + Yb + Yd >= 1"
   ]
  }
 ],
 "metadata": {
  "language_info": {
   "name": "python"
  },
  "orig_nbformat": 4
 },
 "nbformat": 4,
 "nbformat_minor": 2
}
