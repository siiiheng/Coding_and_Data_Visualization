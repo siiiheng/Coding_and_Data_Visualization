{
 "cells": [
  {
   "cell_type": "markdown",
   "metadata": {},
   "source": [
    "## Q1. Numerical Solution for Sample Problem 9.2\n",
    "\n",
    "The concrete formulation of Sample Problem 9.2 is reproduced below:\n",
    "\n",
    "**Decision Variables:** Let $X_1, \\cdots, X_7$ denote whether to use each FC. (Binary)\n",
    "\n",
    "**Objective and constraints:**\n",
    "\n",
    "$$\\begin{aligned}\n",
    "\\text{Minimize} && X_1+X_2+\\cdots+X_7 \\\\\n",
    "\\text{s.t.} && X_2+X_5+X_6+X_7 & \\ge 1\\\\\n",
    "&& X_3+X_4 & \\ge 1\\\\\n",
    "&& X_3 & \\ge 1 \\\\\n",
    "&& X_1+X_2+X_4+X_6 & \\ge 1 \\\\\n",
    "&& X_5 + X_7 & \\ge 1\\\\\n",
    "&& X_4 &\\le X_1 \\\\\n",
    "&& X_2+X_3 & \\le 1\n",
    "\\end{aligned}$$\n",
    "\n",
    "**a)** Implement the above using Gurobi. You don't have to use loops to automate recurring patterns. We will work on loops and list comprehensions next week.\n",
    "\n",
    "Suggestion: use x[1], x[2], ..., x[7] for decisions.\n",
    "\n",
    "Do not \"mod.optimize()\" here in this part yet.\n",
    "\n",
    "After you enter the model, use `mod.write`, and `%cat` in Mac or `!type` in Windows to output what the linear optimization formulation looks like according to Gurobi, following Section 10.4. You can use this to verify that you have indeed implemented the above."
   ]
  },
  {
   "cell_type": "code",
   "execution_count": 1,
   "metadata": {},
   "outputs": [
    {
     "name": "stdout",
     "output_type": "stream",
     "text": [
      "Academic license - for non-commercial use only - expires 2022-10-27\n",
      "Using license file C:\\Users\\Silvia\\gurobi.lic\n",
      "\\ LP format - for model browsing. Use MPS format to capture full model detail.\n",
      "Minimize\n",
      "  C0 + C1 + C2 + C3 + C4 + C5 + C6\n",
      "Subject To\n",
      " R0: C1 + C4 + C5 + C6 >= 1\n",
      " R1: C2 + C3 >= 1\n",
      " R2: C2 >= 1\n",
      " R3: C0 + C1 + C3 + C5 >= 1\n",
      " R4: C4 + C6 >= 1\n",
      " R5: C0 - C3 >= 0\n",
      " R6: C1 + C2 <= 1\n",
      "Bounds\n",
      "Binaries\n",
      " C0 C1 C2 C3 C4 C5 C6\n",
      "End\n"
     ]
    }
   ],
   "source": [
    "# Gurobi code\n",
    "from gurobipy import Model, GRB\n",
    "mod=Model()\n",
    "#continue below\n",
    "x=mod.addVars([1,2,3,4,5,6,7],vtype=GRB.BINARY)\n",
    "value=x[1]+x[2]+x[3]+x[4]+x[5]+x[6]+x[7]\n",
    "mod.setObjective(value,sense=GRB.MINIMIZE)\n",
    "mod.addConstr(x[2]+x[5]+x[6]+x[7] >= 1)\n",
    "mod.addConstr(x[3]+x[4] >= 1)\n",
    "mod.addConstr(x[3] >= 1)\n",
    "mod.addConstr(x[1]+x[2]+x[4]+x[6] >= 1)\n",
    "mod.addConstr(x[5]+x[7] >= 1)\n",
    "mod.addConstr(x[1] >= x[4])\n",
    "mod.addConstr(x[2]+x[3] <= 1)\n",
    "\n",
    "#before printing you want to update model.\n",
    "mod.update()\n",
    "#then mod.write to an lp file\n",
    "mod.write('PS8-Q1.lp')\n",
    "#use either cat or type command below to display the lp file\n",
    "!type PS8-Q1.lp"
   ]
  },
  {
   "cell_type": "markdown",
   "metadata": {},
   "source": [
    "**b)** Execute \"mod.optimize()\" and solve the MIP and print the minimum number of FCs needed, as well as where to stock the items.  You must answer both the number of FCs needed and where to stock. Please set the OutputFlag False.\n"
   ]
  },
  {
   "cell_type": "code",
   "execution_count": 7,
   "metadata": {},
   "outputs": [
    {
     "name": "stdout",
     "output_type": "stream",
     "text": [
      "Minimum number of FCs needed:  3.0\n",
      "FC1: 1.0\n",
      "FC2: 0.0\n",
      "FC3: 1.0\n",
      "FC4: 0.0\n",
      "FC5: 0.0\n",
      "FC6: 0.0\n",
      "FC7: 1.0\n",
      "FCs to stock the items: FC1 FC3 FC7 "
     ]
    }
   ],
   "source": [
    "# gurobi code\n",
    "mod.setParam('OutputFlag',False)\n",
    "mod.optimize()\n",
    "# enter below print statements to print results.\n",
    "print('Minimum number of FCs needed: ',mod.objval)\n",
    "print('FC1:',x[1].x)\n",
    "print('FC2:',x[2].x)\n",
    "print('FC3:',x[3].x)\n",
    "print('FC4:',x[4].x)\n",
    "print('FC5:',x[5].x)\n",
    "print('FC6:',x[6].x)\n",
    "print('FC7:',x[7].x)\n",
    "\n",
    "print('FCs to stock the items:', end=' ')\n",
    "for i in range(1,8):\n",
    "    if x[i].x == 1:\n",
    "        print(f'FC{i}', end=' ')\n",
    "\n"
   ]
  },
  {
   "cell_type": "markdown",
   "metadata": {},
   "source": [
    "## Q2. Optimal Advertising Plan\n",
    "\n",
    "SALS Marketing Inc. is developing an advertising campaign for a large consumer goods corporation. An advertising plan specifies how many units of each kind of advertisement to purchase. SALS has promised a plan that will yield the highest possible “exposure rating,” which is a measure of the ability to reach the appropriate demographic group and generate demand. The options for advertisements with their respective costs (per unit of advertising) and per-unit exposure ratings are given in the table below (K stands for thousands).\n",
    "\n",
    "| Category | Subcategory | Cost/Unit | Exposure/Unit |\n",
    "|--|--|--|--|\n",
    "| Magazines | Literary | \\$7.5 K | 15 K |\n",
    "| ` ` | News | \\$10 K | 22.5 K |\n",
    "| ` ` | Topical | \\$15 K | 24 K |\n",
    "| Newspapers |  Morning | \\$2 K | 37.5 K |\n",
    "|` `  | Evening | \\$3 K | 75 K |\n",
    "| Television | Morning | \\$20 K | 275 K |\n",
    "| ` ` | Midday | \\$10 K | 180 K |\n",
    "| ` `  | Evening | \\$60 K | 810 K |\n",
    "| Radio | Morning | \\$15 K | 180 K |\n",
    "| ` ` | Midday | \\$15 K | 17 K |\n",
    "| ` ` | Evening | \\$10 K | 16 K |\n",
    "\n",
    "Of course, certain restrictions exist for the advertising campaign. The client corporation has budgeted 800,000 dollars for the campaign, but to restrict overexposure to any particular audience it wants no more than 300,000 dollars put into any one category (Magazine, Newspaper, etc.). Also, to ensure a broad range of exposure, at least 100,000 dollars must be spent in each category. Finally, one has to purchase an integer number of units of each kind of advertisement, as no fractional units are allowed.\n",
    "\n",
    "**a)** Formulate a linear optimization problem to determine the optimal advertising plan. Insert markdown cells below and show your Step1 (English Description) and Step2 (Concrete Formulation)."
   ]
  },
  {
   "cell_type": "markdown",
   "metadata": {},
   "source": [
    "### Step 1\n",
    "**Decision:** Units of each kind of advertisement in each timeperiod to purchase\n",
    "\n",
    "**Objective:** Maximize the exposure rating\n",
    "\n",
    "**Constraints:** \n",
    "\n",
    "- Campaign budget is 800,000 dollars.\n",
    "- No more than 300,000 dollars put into any one category. \n",
    "- At least 100,000 dollars must be spent in each category.\n",
    "- One has to purchase an integer number of units of each kind of advertisement.\n",
    "\n",
    "\n",
    "### Step 2\n",
    "\n",
    "**Decision:**\n",
    "- A1, A2, A3: Units of Magazines to purchase for Literary, News, and Topical, repectively (discrete)\n",
    "- B1, B2: Units of Newspapers to purchase for Morning and Evening, repectively (discrete)\n",
    "- C1, C2, C3: Units of Television to purchase for Morning, Midday, and Evening, repectively (discrete)\n",
    "- D1, D2, D3: Units of Radio to purchase for Morning, Midday, and Evening, repectively (discrete)\n",
    "\n",
    "**Objective:** Maximize: 15A1 + 22.5A2 + 24A3 + 37.5B1 + 75B2 + 275C1 + 180C2 + 810C3 + 180D1 + 17D2 + 16D3\n",
    "\n",
    "\n",
    "**Constraints:** \n",
    "- 7.5A1 + 10A2 + 15A3 + 2B1 + 3B2 + 20C1 + 10C2 + 60C3 + 15D1 + 15D2 + 10D3 <= 800\n",
    "- 7.5A1 + 10A2 + 15A3 <= 300\n",
    "- 2B1 + 3B2 <= 300\n",
    "- 20C1 + 10C2 + 60C3 <= 300\n",
    "- 15D1 + 15D2 + 10D3 <= 300\n",
    "- 7.5A1 + 10A2 + 15A3 >= 100\n",
    "- 2B1 + 3B2 >= 100\n",
    "- 20C1 + 10C2 + 60C3 >= 100\n",
    "- 15D1 + 15D2 + 10D3 >= 100\n",
    "- A1, A2, A3, B1, B2, C1, C2, C3, D1, D2, D3 >= 0"
   ]
  },
  {
   "cell_type": "markdown",
   "metadata": {},
   "source": [
    "**b)** Write Gurobi code to implement the above formulation. You don't have to use loops, list comprehensions, panda data frame, etc. Our goal is still using gurobi to optimize. We will work on efficiency next week. Please answer the optimal objective value as well as an optimal set of decisions."
   ]
  },
  {
   "cell_type": "code",
   "execution_count": 8,
   "metadata": {},
   "outputs": [
    {
     "name": "stdout",
     "output_type": "stream",
     "text": [
      "\\ LP format - for model browsing. Use MPS format to capture full model detail.\n",
      "Maximize\n",
      "  15 C0 + 22.5 C1 + 24 C2 + 37.5 C3 + 75 C4 + 275 C5 + 180 C6 + 810 C7\n",
      "   + 180 C8 + 17 C9 + 16 C10\n",
      "Subject To\n",
      " R0: 7.5 C0 + 10 C1 + 15 C2 + 2 C3 + 3 C4 + 20 C5 + 10 C6 + 60 C7 + 15 C8\n",
      "   + 15 C9 + 10 C10 <= 800\n",
      " R1: 7.5 C0 + 10 C1 + 15 C2 <= 300\n",
      " R2: 2 C3 + 3 C4 <= 300\n",
      " R3: 20 C5 + 10 C6 + 60 C7 <= 300\n",
      " R4: 15 C8 + 15 C9 + 10 C10 <= 300\n",
      " R5: 7.5 C0 + 10 C1 + 15 C2 >= 100\n",
      " R6: 2 C3 + 3 C4 >= 100\n",
      " R7: 20 C5 + 10 C6 + 60 C7 >= 100\n",
      " R8: 15 C8 + 15 C9 + 10 C10 >= 100\n",
      "Bounds\n",
      "Generals\n",
      " C0 C1 C2 C3 C4 C5 C6 C7 C8 C9 C10\n",
      "End\n"
     ]
    }
   ],
   "source": [
    "from gurobipy import Model, GRB\n",
    "mod=Model()\n",
    "\n",
    "a=mod.addVars([1,2,3], vtype=GRB.INTEGER)\n",
    "b=mod.addVars([1,2], vtype=GRB.INTEGER)\n",
    "c=mod.addVars([1,2,3], vtype=GRB.INTEGER)\n",
    "d=mod.addVars([1,2,3], vtype=GRB.INTEGER)\n",
    "expo=15*a[1] + 22.5*a[2] + 24*a[3] + 37.5*b[1] + 75*b[2] + 275*c[1] + 180*c[2] + 810*c[3] + 180*d[1] + 17*d[2] + 16*d[3]\n",
    "mod.setObjective(expo, sense=GRB.MAXIMIZE)\n",
    "mod.addConstr(7.5*a[1] + 10*a[2] + 15*a[3] + 2*b[1] + 3*b[2] + 20*c[1] + 10*c[2] + 60*c[3] + 15*d[1] + 15*d[2] + 10*d[3] <= 800)\n",
    "mod.addConstr(7.5*a[1] + 10*a[2] + 15*a[3] <= 300)\n",
    "mod.addConstr(2*b[1] + 3*b[2] <= 300)\n",
    "mod.addConstr(20*c[1] + 10*c[2] + 60*c[3] <= 300)\n",
    "mod.addConstr(15*d[1] + 15*d[2] + 10*d[3] <= 300)\n",
    "mod.addConstr(7.5*a[1] + 10*a[2] + 15*a[3] >= 100)\n",
    "mod.addConstr(2*b[1] + 3*b[2] >= 100)\n",
    "mod.addConstr(20*c[1] + 10*c[2] + 60*c[3] >= 100)\n",
    "mod.addConstr(15*d[1] + 15*d[2] + 10*d[3] >= 100)\n",
    "\n",
    "mod.update()\n",
    "mod.write('PS8-Q2.lp')\n",
    "!type PS8-Q2.lp"
   ]
  },
  {
   "cell_type": "code",
   "execution_count": 9,
   "metadata": {},
   "outputs": [
    {
     "name": "stdout",
     "output_type": "stream",
     "text": [
      "Maximum Exposure Rating:  14235.0\n",
      "Magazines Literary: -0.0\n",
      "Magazines News: 10.0\n",
      "Magazines Topical: -0.0\n",
      "Newspapers Morning: 0.0\n",
      "Newspapers Evening: 98.0\n",
      "Television Morning: -0.0\n",
      "Television Midday: 30.0\n",
      "Television Evening: -0.0\n",
      "Radio Morning: 7.0\n",
      "Radio Midday: -0.0\n",
      "Radio Evening: -0.0\n"
     ]
    }
   ],
   "source": [
    "mod.setParam('OutputFlag',False)\n",
    "mod.optimize()\n",
    "\n",
    "print('Maximum Exposure Rating: ',mod.ObjVal)\n",
    "print('Magazines Literary:',a[1].x)\n",
    "print('Magazines News:',a[2].x)\n",
    "print('Magazines Topical:',a[3].x)\n",
    "print('Newspapers Morning:',b[1].x)\n",
    "print('Newspapers Evening:',b[2].x)\n",
    "print('Television Morning:',c[1].x)\n",
    "print('Television Midday:',c[2].x)\n",
    "print('Television Evening:',c[3].x)\n",
    "print('Radio Morning:',d[1].x)\n",
    "print('Radio Midday:',d[2].x)\n",
    "print('Radio Evening:',d[3].x)"
   ]
  }
 ],
 "metadata": {
  "kernelspec": {
   "display_name": "Python 3",
   "language": "python",
   "name": "python3"
  },
  "language_info": {
   "codemirror_mode": {
    "name": "ipython",
    "version": 3
   },
   "file_extension": ".py",
   "mimetype": "text/x-python",
   "name": "python",
   "nbconvert_exporter": "python",
   "pygments_lexer": "ipython3",
   "version": "3.8.8"
  }
 },
 "nbformat": 4,
 "nbformat_minor": 2
}
