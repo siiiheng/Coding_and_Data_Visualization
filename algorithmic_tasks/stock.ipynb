{
 "cells": [
  {
   "cell_type": "markdown",
   "metadata": {},
   "source": [
    "## Q1. Investment Accounting \n",
    "\n",
    "This question asks you to create a tool to perform simple accounting for stock trading. Write a function called \"accounting\" with two input arguments:\n",
    "\n",
    "- prices: a list of positive numbers corresponding to the price of a stock in successive days. \n",
    "- changes: a list of integers (positive or negative) corresponding to the change in the number of shares carried. A positive number corresponds to buying shares of the stock and a negative number corresponds to selling. It is possible for you to own net negative shares of the stock.\n",
    "\n",
    "You may assume that the two lists are of the same length. The function should return (not print) the following two numbers:\n",
    "\n",
    "- net change in shares: the sum of the numbers in the list \"changes\".\n",
    "- net change in cash: the net money spent or earned over the trades in the list \"changes\". Buying the stock costs money and selling it earns money. \n",
    "\n",
    "For example, if `prices=[10,12,13,8,7,15]` and `changes=[3,2,-5,3,1,-5]`, the following table illustrates the calculations.\n",
    "\n",
    "|Price | Change | Cashflow |\n",
    "|--|--|--|\n",
    "|10|+3 | -30 |\n",
    "|12|+2 | -24 |\n",
    "|13|-5 | 65 |\n",
    "|8 | +3 | -24 |\n",
    "|7 | +1 | -7 |\n",
    "|15|-5 | 75 |\n",
    "|**Net**| **-1** | **55** |\n",
    "\n",
    "**Sample run:**\n",
    "```python\n",
    "netShares,netCash=accounting([10,12,13,8,7,15],[3,2,-5,3,1,-5])\n",
    "print(f'Net change in position: {netShares} shares.')\n",
    "print(f'Net change in cash: {netCash} dollars.')\n",
    "```\n",
    "\n",
    "**Sample output:**\n",
    "```\n",
    "Net change in position: -1 shares.\n",
    "Net change in cash: 55 dollars.\n",
    "```"
   ]
  },
  {
   "cell_type": "code",
   "execution_count": 19,
   "metadata": {},
   "outputs": [],
   "source": [
    "# Final code\n",
    "def accounting(prices,changes):\n",
    "    netchange = sum(changes)\n",
    "    netcashflow = 0\n",
    "    n = 0\n",
    "    for i in prices:\n",
    "        netcashflow = netcashflow - i * changes[n]\n",
    "        n += 1\n",
    "    return netchange,netcashflow"
   ]
  },
  {
   "cell_type": "code",
   "execution_count": 20,
   "metadata": {},
   "outputs": [
    {
     "name": "stdout",
     "output_type": "stream",
     "text": [
      "Net change in position: -1 shares.\n",
      "Net change in cash: 55 dollars.\n"
     ]
    }
   ],
   "source": [
    "# Sample run\n",
    "netShares,netCash=accounting([10,12,13,8,7,15],[3,2,-5,3,1,-5])\n",
    "print(f'Net change in position: {netShares} shares.')\n",
    "print(f'Net change in cash: {netCash} dollars.')"
   ]
  },
  {
   "cell_type": "markdown",
   "metadata": {},
   "source": [
    "## Q2. Demand Estimation with $n$ Substitutable Products\n",
    "\n",
    "This exercise generalizes Exercise 3.6 to $n$ products, where $n$ is any positive integer.\n",
    "\n",
    "Write a function called `demand` with two input arguments:\n",
    "\n",
    "- `prices`: a list of $n$ prices, one for each product. \n",
    "- `values`: a list in which each element represents a customer's valuations for the $n$ products. The valuations is a list of length $n$, which corresponds to the customer's willingness to pay for each of the $n$ products.\n",
    "\n",
    "The function should return a list of length $n$ representing the number of each product sold. You should assume that each customer:\n",
    "\n",
    "- Does not purchase anything if his/her valuation for each product is strictly less than its price.\n",
    "- Otherwise, purchase the product in which the difference between his/her valuation and the price is the largest. When there is a tie, the customer will purchase the product with the smaller index. \n",
    "\n",
    "For example, if `prices=[10,8,12]`, then\n",
    "\n",
    "- A customer with valuations `[9,7,11]` purchases nothing.\n",
    "- A customer with valuations `[10,8,12]` purchases product 1.\n",
    "- A customer with valuations `[9,8,12]` purchases product 2.\n",
    "- A customer with valuations `[9,8,13]` purchases product 3.\n",
    "\n",
    "**Sample run 1:**\n",
    "\n",
    "```python\n",
    "prices=[10,8,12]\n",
    "values=[[9,7,11],[10,8,12],[9,8,12],[9,8,13]]\n",
    "ans=demand(prices,values)\n",
    "for i in range(len(prices)):\n",
    "    print(f'Demand for product {i+1}:',ans[i])\n",
    "```\n",
    "\n",
    "**Correct output:**\n",
    "\n",
    "```\n",
    "Demand for product 1: 1\n",
    "Demand for product 2: 1\n",
    "Demand for product 3: 1\n",
    "```\n",
    "\n",
    "**Sample run 2:**\n",
    "\n",
    "```python\n",
    "prices=[20,15,30]\n",
    "values=[[30,30,20],[40,10,15],[18,13,29],[40,30,50],[10,30,50],[10,10,10],[20,15,30]]\n",
    "ans=demand(prices,values)\n",
    "for i in range(len(prices)):\n",
    "    print(f'Demand for product {i+1}:',ans[i])\n",
    "   ```\n",
    "   \n",
    "**Correct output:**\n",
    "\n",
    "```\n",
    "Demand for product 1: 3\n",
    "Demand for product 2: 1\n",
    "Demand for product 3: 1\n",
    "```"
   ]
  },
  {
   "cell_type": "code",
   "execution_count": 26,
   "metadata": {},
   "outputs": [],
   "source": [
    "# Final code: removing intermediate printing and encapuslating in a function\n",
    "def demand(prices,values):\n",
    "    length = len(prices)\n",
    "    demand = [0]*length\n",
    "    for v in values:\n",
    "        difference = []\n",
    "        for i in range(length):\n",
    "            difference.append(v[i]-prices[i])\n",
    "        diffmax = max(difference)\n",
    "        for j in range(length):\n",
    "            if difference[j] == diffmax and difference[j] >=0:\n",
    "                demand[j] += 1\n",
    "                break  \n",
    "    return demand"
   ]
  },
  {
   "cell_type": "code",
   "execution_count": 27,
   "metadata": {},
   "outputs": [
    {
     "name": "stdout",
     "output_type": "stream",
     "text": [
      "Demand for product 0 : 1\n",
      "Demand for product 1 : 1\n",
      "Demand for product 2 : 1\n"
     ]
    }
   ],
   "source": [
    "# Sample run 1\n",
    "prices=[10,8,12]\n",
    "values=[[9,7,11],[10,8,12],[9,8,12],[9,8,13]]\n",
    "ans=demand(prices,values)\n",
    "for i in range(len(prices)):\n",
    "    print('Demand for product',i,':',ans[i])"
   ]
  },
  {
   "cell_type": "code",
   "execution_count": 28,
   "metadata": {},
   "outputs": [
    {
     "name": "stdout",
     "output_type": "stream",
     "text": [
      "Demand for product 0 : 3\n",
      "Demand for product 1 : 1\n",
      "Demand for product 2 : 1\n"
     ]
    }
   ],
   "source": [
    "# Sample run 2\n",
    "prices=[20,15,30]\n",
    "values=[[30,30,20],[40,10,15],[18,13,29],[40,30,50],[10,30,50],[10,10,10],[20,15,30]]\n",
    "ans=demand(prices,values)\n",
    "for i in range(len(prices)):\n",
    "    print('Demand for product',i,':',ans[i])"
   ]
  },
  {
   "cell_type": "markdown",
   "metadata": {},
   "source": [
    "## Q3. Grocery Store Restocking\n",
    "\n",
    "This question asks you to make a tool that helps a grocery store to analyze their policy for restocking shelves for a certain non-perishable item. Write a function called `analyzeScenario` with three input parameters:\n",
    "\n",
    "- `demandList`: a non-empty list of non-negative integers representing the forecasted daily demand for the item, corresponding to a period of consecutive days. The number of days is `len(demandList)`.\n",
    "- `stockingLevel`: a positive integer representing the maximum number of units that the store will stock on its shelves at any time.\n",
    "- `minimumLevel`: a non-negative integer representing the minimum number of units on the shelves that the store can tolerate without restocking. \n",
    "\n",
    "Assume that the store makes its stocking decision at the end of each day after closing. If the leftover inventory on the shelf at the end of a day is strictly below the \"minimumLevel\", then the store will restock to a full shelf, and the inventory at the beginning of the next day will be equal to \"stockingLevel\". If the leftover inventory at the end of a day is greater than or equal to \"minimumLevel\", then the store will not add anything to the shelf, and the inventory at the beginning of the next day will be the same as the leftover inventory. On the first day, the shelf is full, so the inventory level is equal to \"stockingLevel\".\n",
    "\n",
    "Your function should print (not return) the number of times it would decide to restock during the period represented by the input data. \n",
    "\n",
    "For example, the sample run\n",
    "```python\n",
    "analyzeScenario([3,4,2,5,15,3,9,3,1,3,9],10,3)\n",
    "```\n",
    "should result in exactly the following message printed to screen.\n",
    "```\n",
    "The store needs to restock 4 times.\n",
    "```\n",
    "The following table illustrates the inventory dynamics.\n",
    "\n",
    "| Beginning Inventory | Demand |   Leftover Inventory | Restock? |\n",
    "|--|--|--|--|\n",
    "|10|3 |7 |No |\n",
    "|7 |4 |3 |No |\n",
    "|3 |2 |1 | Yes |\n",
    "|10|5 |5 | No |\n",
    "| 5|15|0 |Yes |\n",
    "|10|3|7 | No|\n",
    "|7|9 | 0 | Yes |\n",
    "|10|3| 7 | No |\n",
    "|7 |1 | 6 | No |\n",
    "|6 | 3|  3 | No |\n",
    "|3 | 9 |  0 | Yes |\n",
    "|**# of times to restock:**|` `|` `| **4**|\n",
    "\n",
    "Note that if demand is greater than the beginning inventory, the leftover inventory is zero. Otherwise, the leftover inventory is equal to the beginning inventory minus the demand. The final answer (the number of times to restock) is equal to the number of Yes's in the last column of the table.\n",
    "\n",
    "**Sample run 2:**\n",
    "```python\n",
    "analyzeScenario([3,4,2,5,15,3,9,3,1,3,9],9,3)\n",
    "```\n",
    "\n",
    "The printed message should be exactly as below:\n",
    "```\n",
    "The store needs to restock 6 times.\n",
    "\n",
    "```\n",
    "\n",
    "**Sample run 3:**\n",
    "```python\n",
    "analyzeScenario([8,3,2,6,9,3,5,2,9,10],9,5)\n",
    "```\n",
    "\n",
    "The printed message should be exactly as below:\n",
    "\n",
    "```\n",
    "The store needs to restock 7 times.\n",
    "\n",
    "```"
   ]
  },
  {
   "cell_type": "code",
   "execution_count": 33,
   "metadata": {},
   "outputs": [],
   "source": [
    "# Final code\n",
    "def analyzeScenario(demandList,stockingLevel,minimumLevel):\n",
    "    restock = 0\n",
    "    leftover = stockingLevel\n",
    "    for i in demandList:\n",
    "        leftover = leftover - i\n",
    "        if leftover < minimumLevel:\n",
    "            restock += 1\n",
    "            leftover = stockingLevel\n",
    "    print(f'The store needs to restock {restock} times.')"
   ]
  },
  {
   "cell_type": "code",
   "execution_count": 34,
   "metadata": {},
   "outputs": [
    {
     "name": "stdout",
     "output_type": "stream",
     "text": [
      "The store needs to restock 4 times.\n"
     ]
    }
   ],
   "source": [
    "# Sample run 1\n",
    "analyzeScenario([3,4,2,5,15,3,9,3,1,3,9],10,3)"
   ]
  },
  {
   "cell_type": "code",
   "execution_count": 35,
   "metadata": {},
   "outputs": [
    {
     "name": "stdout",
     "output_type": "stream",
     "text": [
      "The store needs to restock 6 times.\n"
     ]
    }
   ],
   "source": [
    "# Sample run 2\n",
    "analyzeScenario([3,4,2,5,15,3,9,3,1,3,9],9,3)"
   ]
  },
  {
   "cell_type": "code",
   "execution_count": 36,
   "metadata": {},
   "outputs": [
    {
     "name": "stdout",
     "output_type": "stream",
     "text": [
      "The store needs to restock 7 times.\n"
     ]
    }
   ],
   "source": [
    "# Sample run 3\n",
    "analyzeScenario([8,3,2,6,9,3,5,2,9,10],9,5)"
   ]
  }
 ],
 "metadata": {
  "kernelspec": {
   "display_name": "Python 3.9.7 ('my_env')",
   "language": "python",
   "name": "python3"
  },
  "language_info": {
   "codemirror_mode": {
    "name": "ipython",
    "version": 3
   },
   "file_extension": ".py",
   "mimetype": "text/x-python",
   "name": "python",
   "nbconvert_exporter": "python",
   "pygments_lexer": "ipython3",
   "version": "3.9.7"
  },
  "vscode": {
   "interpreter": {
    "hash": "1d4a20816497f3ee1b8eabca57e1499f026e688c57304d4c2e02f4791e91a7c5"
   }
  }
 },
 "nbformat": 4,
 "nbformat_minor": 2
}
