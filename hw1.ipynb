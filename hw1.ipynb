{
 "cells": [
  {
   "cell_type": "code",
   "execution_count": 1,
   "metadata": {},
   "outputs": [],
   "source": [
    "import numpy as np\n",
    "import pandas as pd\n",
    "import matplotlib.pyplot as plt\n",
    "import seaborn as sns "
   ]
  },
  {
   "cell_type": "code",
   "execution_count": 2,
   "metadata": {},
   "outputs": [],
   "source": [
    "df = pd.read_csv('hw1.csv', parse_dates = ['Date'], index_col = ['Date'])"
   ]
  },
  {
   "cell_type": "code",
   "execution_count": 3,
   "metadata": {},
   "outputs": [
    {
     "data": {
      "text/html": [
       "<div>\n",
       "<style scoped>\n",
       "    .dataframe tbody tr th:only-of-type {\n",
       "        vertical-align: middle;\n",
       "    }\n",
       "\n",
       "    .dataframe tbody tr th {\n",
       "        vertical-align: top;\n",
       "    }\n",
       "\n",
       "    .dataframe thead th {\n",
       "        text-align: right;\n",
       "    }\n",
       "</style>\n",
       "<table border=\"1\" class=\"dataframe\">\n",
       "  <thead>\n",
       "    <tr style=\"text-align: right;\">\n",
       "      <th></th>\n",
       "      <th>Zipcodes</th>\n",
       "      <th>Online Available</th>\n",
       "      <th>Pharmacy</th>\n",
       "      <th>Store Sales</th>\n",
       "      <th>Median Income</th>\n",
       "      <th>Population</th>\n",
       "    </tr>\n",
       "    <tr>\n",
       "      <th>Date</th>\n",
       "      <th></th>\n",
       "      <th></th>\n",
       "      <th></th>\n",
       "      <th></th>\n",
       "      <th></th>\n",
       "      <th></th>\n",
       "    </tr>\n",
       "  </thead>\n",
       "  <tbody>\n",
       "    <tr>\n",
       "      <th>2015-01-01</th>\n",
       "      <td>90003</td>\n",
       "      <td>0</td>\n",
       "      <td>1</td>\n",
       "      <td>67385</td>\n",
       "      <td>18996</td>\n",
       "      <td>35177</td>\n",
       "    </tr>\n",
       "    <tr>\n",
       "      <th>2015-02-01</th>\n",
       "      <td>90003</td>\n",
       "      <td>0</td>\n",
       "      <td>1</td>\n",
       "      <td>67862</td>\n",
       "      <td>18996</td>\n",
       "      <td>35177</td>\n",
       "    </tr>\n",
       "    <tr>\n",
       "      <th>2015-03-01</th>\n",
       "      <td>90003</td>\n",
       "      <td>0</td>\n",
       "      <td>1</td>\n",
       "      <td>72886</td>\n",
       "      <td>18996</td>\n",
       "      <td>35177</td>\n",
       "    </tr>\n",
       "    <tr>\n",
       "      <th>2015-04-01</th>\n",
       "      <td>90003</td>\n",
       "      <td>0</td>\n",
       "      <td>1</td>\n",
       "      <td>59983</td>\n",
       "      <td>18996</td>\n",
       "      <td>35177</td>\n",
       "    </tr>\n",
       "    <tr>\n",
       "      <th>2015-05-01</th>\n",
       "      <td>90003</td>\n",
       "      <td>0</td>\n",
       "      <td>1</td>\n",
       "      <td>56489</td>\n",
       "      <td>18996</td>\n",
       "      <td>35177</td>\n",
       "    </tr>\n",
       "  </tbody>\n",
       "</table>\n",
       "</div>"
      ],
      "text/plain": [
       "            Zipcodes  Online Available  Pharmacy  Store Sales  Median Income  \\\n",
       "Date                                                                           \n",
       "2015-01-01     90003                 0         1        67385          18996   \n",
       "2015-02-01     90003                 0         1        67862          18996   \n",
       "2015-03-01     90003                 0         1        72886          18996   \n",
       "2015-04-01     90003                 0         1        59983          18996   \n",
       "2015-05-01     90003                 0         1        56489          18996   \n",
       "\n",
       "            Population  \n",
       "Date                    \n",
       "2015-01-01       35177  \n",
       "2015-02-01       35177  \n",
       "2015-03-01       35177  \n",
       "2015-04-01       35177  \n",
       "2015-05-01       35177  "
      ]
     },
     "execution_count": 3,
     "metadata": {},
     "output_type": "execute_result"
    }
   ],
   "source": [
    "df.head()"
   ]
  },
  {
   "cell_type": "code",
   "execution_count": 4,
   "metadata": {},
   "outputs": [
    {
     "data": {
      "text/html": [
       "<div>\n",
       "<style scoped>\n",
       "    .dataframe tbody tr th:only-of-type {\n",
       "        vertical-align: middle;\n",
       "    }\n",
       "\n",
       "    .dataframe tbody tr th {\n",
       "        vertical-align: top;\n",
       "    }\n",
       "\n",
       "    .dataframe thead th {\n",
       "        text-align: right;\n",
       "    }\n",
       "</style>\n",
       "<table border=\"1\" class=\"dataframe\">\n",
       "  <thead>\n",
       "    <tr style=\"text-align: right;\">\n",
       "      <th></th>\n",
       "      <th>Zipcodes</th>\n",
       "      <th>Online Available</th>\n",
       "      <th>Pharmacy</th>\n",
       "      <th>Store Sales</th>\n",
       "      <th>Median Income</th>\n",
       "      <th>Population</th>\n",
       "      <th>Year</th>\n",
       "      <th>Month</th>\n",
       "    </tr>\n",
       "    <tr>\n",
       "      <th>Date</th>\n",
       "      <th></th>\n",
       "      <th></th>\n",
       "      <th></th>\n",
       "      <th></th>\n",
       "      <th></th>\n",
       "      <th></th>\n",
       "      <th></th>\n",
       "      <th></th>\n",
       "    </tr>\n",
       "  </thead>\n",
       "  <tbody>\n",
       "    <tr>\n",
       "      <th>2015-01-01</th>\n",
       "      <td>90003</td>\n",
       "      <td>0</td>\n",
       "      <td>1</td>\n",
       "      <td>67385</td>\n",
       "      <td>18996</td>\n",
       "      <td>35177</td>\n",
       "      <td>2015</td>\n",
       "      <td>1</td>\n",
       "    </tr>\n",
       "    <tr>\n",
       "      <th>2015-02-01</th>\n",
       "      <td>90003</td>\n",
       "      <td>0</td>\n",
       "      <td>1</td>\n",
       "      <td>67862</td>\n",
       "      <td>18996</td>\n",
       "      <td>35177</td>\n",
       "      <td>2015</td>\n",
       "      <td>2</td>\n",
       "    </tr>\n",
       "    <tr>\n",
       "      <th>2015-03-01</th>\n",
       "      <td>90003</td>\n",
       "      <td>0</td>\n",
       "      <td>1</td>\n",
       "      <td>72886</td>\n",
       "      <td>18996</td>\n",
       "      <td>35177</td>\n",
       "      <td>2015</td>\n",
       "      <td>3</td>\n",
       "    </tr>\n",
       "    <tr>\n",
       "      <th>2015-04-01</th>\n",
       "      <td>90003</td>\n",
       "      <td>0</td>\n",
       "      <td>1</td>\n",
       "      <td>59983</td>\n",
       "      <td>18996</td>\n",
       "      <td>35177</td>\n",
       "      <td>2015</td>\n",
       "      <td>4</td>\n",
       "    </tr>\n",
       "    <tr>\n",
       "      <th>2015-05-01</th>\n",
       "      <td>90003</td>\n",
       "      <td>0</td>\n",
       "      <td>1</td>\n",
       "      <td>56489</td>\n",
       "      <td>18996</td>\n",
       "      <td>35177</td>\n",
       "      <td>2015</td>\n",
       "      <td>5</td>\n",
       "    </tr>\n",
       "    <tr>\n",
       "      <th>...</th>\n",
       "      <td>...</td>\n",
       "      <td>...</td>\n",
       "      <td>...</td>\n",
       "      <td>...</td>\n",
       "      <td>...</td>\n",
       "      <td>...</td>\n",
       "      <td>...</td>\n",
       "      <td>...</td>\n",
       "    </tr>\n",
       "    <tr>\n",
       "      <th>2016-08-01</th>\n",
       "      <td>96003</td>\n",
       "      <td>0</td>\n",
       "      <td>0</td>\n",
       "      <td>108016</td>\n",
       "      <td>31437</td>\n",
       "      <td>30310</td>\n",
       "      <td>2016</td>\n",
       "      <td>8</td>\n",
       "    </tr>\n",
       "    <tr>\n",
       "      <th>2016-09-01</th>\n",
       "      <td>96003</td>\n",
       "      <td>0</td>\n",
       "      <td>0</td>\n",
       "      <td>75790</td>\n",
       "      <td>31437</td>\n",
       "      <td>30310</td>\n",
       "      <td>2016</td>\n",
       "      <td>9</td>\n",
       "    </tr>\n",
       "    <tr>\n",
       "      <th>2016-10-01</th>\n",
       "      <td>96003</td>\n",
       "      <td>0</td>\n",
       "      <td>0</td>\n",
       "      <td>78439</td>\n",
       "      <td>31437</td>\n",
       "      <td>30310</td>\n",
       "      <td>2016</td>\n",
       "      <td>10</td>\n",
       "    </tr>\n",
       "    <tr>\n",
       "      <th>2016-11-01</th>\n",
       "      <td>96003</td>\n",
       "      <td>0</td>\n",
       "      <td>0</td>\n",
       "      <td>102051</td>\n",
       "      <td>31437</td>\n",
       "      <td>30310</td>\n",
       "      <td>2016</td>\n",
       "      <td>11</td>\n",
       "    </tr>\n",
       "    <tr>\n",
       "      <th>2016-12-01</th>\n",
       "      <td>96003</td>\n",
       "      <td>0</td>\n",
       "      <td>0</td>\n",
       "      <td>79582</td>\n",
       "      <td>31437</td>\n",
       "      <td>30310</td>\n",
       "      <td>2016</td>\n",
       "      <td>12</td>\n",
       "    </tr>\n",
       "  </tbody>\n",
       "</table>\n",
       "<p>4512 rows × 8 columns</p>\n",
       "</div>"
      ],
      "text/plain": [
       "            Zipcodes  Online Available  Pharmacy  Store Sales  Median Income  \\\n",
       "Date                                                                           \n",
       "2015-01-01     90003                 0         1        67385          18996   \n",
       "2015-02-01     90003                 0         1        67862          18996   \n",
       "2015-03-01     90003                 0         1        72886          18996   \n",
       "2015-04-01     90003                 0         1        59983          18996   \n",
       "2015-05-01     90003                 0         1        56489          18996   \n",
       "...              ...               ...       ...          ...            ...   \n",
       "2016-08-01     96003                 0         0       108016          31437   \n",
       "2016-09-01     96003                 0         0        75790          31437   \n",
       "2016-10-01     96003                 0         0        78439          31437   \n",
       "2016-11-01     96003                 0         0       102051          31437   \n",
       "2016-12-01     96003                 0         0        79582          31437   \n",
       "\n",
       "            Population  Year  Month  \n",
       "Date                                 \n",
       "2015-01-01       35177  2015      1  \n",
       "2015-02-01       35177  2015      2  \n",
       "2015-03-01       35177  2015      3  \n",
       "2015-04-01       35177  2015      4  \n",
       "2015-05-01       35177  2015      5  \n",
       "...                ...   ...    ...  \n",
       "2016-08-01       30310  2016      8  \n",
       "2016-09-01       30310  2016      9  \n",
       "2016-10-01       30310  2016     10  \n",
       "2016-11-01       30310  2016     11  \n",
       "2016-12-01       30310  2016     12  \n",
       "\n",
       "[4512 rows x 8 columns]"
      ]
     },
     "execution_count": 4,
     "metadata": {},
     "output_type": "execute_result"
    }
   ],
   "source": [
    "df['Year'] = df.index.year\n",
    "df['Month'] = df.index.month\n",
    "df"
   ]
  },
  {
   "cell_type": "code",
   "execution_count": 5,
   "metadata": {},
   "outputs": [],
   "source": [
    "df1 = df[df['Online Available'] == 1]\n",
    "df2 = df[df['Online Available'] == 0]"
   ]
  },
  {
   "cell_type": "code",
   "execution_count": 6,
   "metadata": {},
   "outputs": [
    {
     "data": {
      "image/png": "[encoded data removed]",
      "text/plain": [
       "<Figure size 421.5x360 with 1 Axes>"
      ]
     },
     "metadata": {
      "needs_background": "light"
     },
     "output_type": "display_data"
    }
   ],
   "source": [
    "sns.catplot(data=df, x='Online Available',y='Store Sales', hue= 'Year', kind = 'box')\n",
    "plt.xticks([0,1],['No', 'Yes'])\n",
    "plt.show()\n"
   ]
  },
  {
   "cell_type": "code",
   "execution_count": 45,
   "metadata": {},
   "outputs": [
    {
     "data": {
      "text/html": [
       "<div>\n",
       "<style scoped>\n",
       "    .dataframe tbody tr th:only-of-type {\n",
       "        vertical-align: middle;\n",
       "    }\n",
       "\n",
       "    .dataframe tbody tr th {\n",
       "        vertical-align: top;\n",
       "    }\n",
       "\n",
       "    .dataframe thead th {\n",
       "        text-align: right;\n",
       "    }\n",
       "</style>\n",
       "<table border=\"1\" class=\"dataframe\">\n",
       "  <thead>\n",
       "    <tr style=\"text-align: right;\">\n",
       "      <th></th>\n",
       "      <th></th>\n",
       "      <th>count</th>\n",
       "      <th>mean</th>\n",
       "      <th>std</th>\n",
       "      <th>min</th>\n",
       "      <th>25%</th>\n",
       "      <th>50%</th>\n",
       "      <th>75%</th>\n",
       "      <th>max</th>\n",
       "    </tr>\n",
       "    <tr>\n",
       "      <th>Online Available</th>\n",
       "      <th>Year</th>\n",
       "      <th></th>\n",
       "      <th></th>\n",
       "      <th></th>\n",
       "      <th></th>\n",
       "      <th></th>\n",
       "      <th></th>\n",
       "      <th></th>\n",
       "      <th></th>\n",
       "    </tr>\n",
       "  </thead>\n",
       "  <tbody>\n",
       "    <tr>\n",
       "      <th rowspan=\"2\" valign=\"top\">0</th>\n",
       "      <th>2015</th>\n",
       "      <td>1860.0</td>\n",
       "      <td>133341.284946</td>\n",
       "      <td>49643.548276</td>\n",
       "      <td>45491.0</td>\n",
       "      <td>96727.50</td>\n",
       "      <td>123627.5</td>\n",
       "      <td>162699.25</td>\n",
       "      <td>340626.0</td>\n",
       "    </tr>\n",
       "    <tr>\n",
       "      <th>2016</th>\n",
       "      <td>1860.0</td>\n",
       "      <td>133906.888172</td>\n",
       "      <td>50109.639674</td>\n",
       "      <td>48364.0</td>\n",
       "      <td>97036.25</td>\n",
       "      <td>123854.5</td>\n",
       "      <td>163180.50</td>\n",
       "      <td>350586.0</td>\n",
       "    </tr>\n",
       "    <tr>\n",
       "      <th rowspan=\"2\" valign=\"top\">1</th>\n",
       "      <th>2015</th>\n",
       "      <td>396.0</td>\n",
       "      <td>166889.717172</td>\n",
       "      <td>50382.266358</td>\n",
       "      <td>88798.0</td>\n",
       "      <td>133635.00</td>\n",
       "      <td>157441.0</td>\n",
       "      <td>188870.75</td>\n",
       "      <td>400218.0</td>\n",
       "    </tr>\n",
       "    <tr>\n",
       "      <th>2016</th>\n",
       "      <td>396.0</td>\n",
       "      <td>158422.242424</td>\n",
       "      <td>40541.476109</td>\n",
       "      <td>77890.0</td>\n",
       "      <td>130470.75</td>\n",
       "      <td>152129.0</td>\n",
       "      <td>178583.25</td>\n",
       "      <td>345635.0</td>\n",
       "    </tr>\n",
       "  </tbody>\n",
       "</table>\n",
       "</div>"
      ],
      "text/plain": [
       "                        count           mean           std      min  \\\n",
       "Online Available Year                                                 \n",
       "0                2015  1860.0  133341.284946  49643.548276  45491.0   \n",
       "                 2016  1860.0  133906.888172  50109.639674  48364.0   \n",
       "1                2015   396.0  166889.717172  50382.266358  88798.0   \n",
       "                 2016   396.0  158422.242424  40541.476109  77890.0   \n",
       "\n",
       "                             25%       50%        75%       max  \n",
       "Online Available Year                                            \n",
       "0                2015   96727.50  123627.5  162699.25  340626.0  \n",
       "                 2016   97036.25  123854.5  163180.50  350586.0  \n",
       "1                2015  133635.00  157441.0  188870.75  400218.0  \n",
       "                 2016  130470.75  152129.0  178583.25  345635.0  "
      ]
     },
     "execution_count": 45,
     "metadata": {},
     "output_type": "execute_result"
    }
   ],
   "source": [
    "df.groupby(['Online Available', 'Year'])['Store Sales'].describe()"
   ]
  },
  {
   "cell_type": "code",
   "execution_count": 52,
   "metadata": {},
   "outputs": [
    {
     "data": {
      "text/html": [
       "<div>\n",
       "<style scoped>\n",
       "    .dataframe tbody tr th:only-of-type {\n",
       "        vertical-align: middle;\n",
       "    }\n",
       "\n",
       "    .dataframe tbody tr th {\n",
       "        vertical-align: top;\n",
       "    }\n",
       "\n",
       "    .dataframe thead th {\n",
       "        text-align: right;\n",
       "    }\n",
       "</style>\n",
       "<table border=\"1\" class=\"dataframe\">\n",
       "  <thead>\n",
       "    <tr style=\"text-align: right;\">\n",
       "      <th></th>\n",
       "      <th></th>\n",
       "      <th></th>\n",
       "      <th>count</th>\n",
       "      <th>mean</th>\n",
       "      <th>std</th>\n",
       "      <th>min</th>\n",
       "      <th>25%</th>\n",
       "      <th>50%</th>\n",
       "      <th>75%</th>\n",
       "      <th>max</th>\n",
       "    </tr>\n",
       "    <tr>\n",
       "      <th>Online Available</th>\n",
       "      <th>Pharmacy</th>\n",
       "      <th>Year</th>\n",
       "      <th></th>\n",
       "      <th></th>\n",
       "      <th></th>\n",
       "      <th></th>\n",
       "      <th></th>\n",
       "      <th></th>\n",
       "      <th></th>\n",
       "      <th></th>\n",
       "    </tr>\n",
       "  </thead>\n",
       "  <tbody>\n",
       "    <tr>\n",
       "      <th rowspan=\"4\" valign=\"top\">0</th>\n",
       "      <th rowspan=\"2\" valign=\"top\">0</th>\n",
       "      <th>2015</th>\n",
       "      <td>876.0</td>\n",
       "      <td>127993.196347</td>\n",
       "      <td>51898.661907</td>\n",
       "      <td>46848.0</td>\n",
       "      <td>88262.25</td>\n",
       "      <td>111467.0</td>\n",
       "      <td>161567.25</td>\n",
       "      <td>320728.0</td>\n",
       "    </tr>\n",
       "    <tr>\n",
       "      <th>2016</th>\n",
       "      <td>876.0</td>\n",
       "      <td>128395.577626</td>\n",
       "      <td>52356.250920</td>\n",
       "      <td>49191.0</td>\n",
       "      <td>89111.00</td>\n",
       "      <td>111704.5</td>\n",
       "      <td>162773.00</td>\n",
       "      <td>314243.0</td>\n",
       "    </tr>\n",
       "    <tr>\n",
       "      <th rowspan=\"2\" valign=\"top\">1</th>\n",
       "      <th>2015</th>\n",
       "      <td>984.0</td>\n",
       "      <td>138102.388211</td>\n",
       "      <td>47063.557315</td>\n",
       "      <td>45491.0</td>\n",
       "      <td>105754.50</td>\n",
       "      <td>130948.0</td>\n",
       "      <td>162891.25</td>\n",
       "      <td>340626.0</td>\n",
       "    </tr>\n",
       "    <tr>\n",
       "      <th>2016</th>\n",
       "      <td>984.0</td>\n",
       "      <td>138813.298780</td>\n",
       "      <td>47512.686942</td>\n",
       "      <td>48364.0</td>\n",
       "      <td>105705.50</td>\n",
       "      <td>129372.5</td>\n",
       "      <td>164070.25</td>\n",
       "      <td>350586.0</td>\n",
       "    </tr>\n",
       "    <tr>\n",
       "      <th rowspan=\"4\" valign=\"top\">1</th>\n",
       "      <th rowspan=\"2\" valign=\"top\">0</th>\n",
       "      <th>2015</th>\n",
       "      <td>240.0</td>\n",
       "      <td>168321.187500</td>\n",
       "      <td>57707.950671</td>\n",
       "      <td>88798.0</td>\n",
       "      <td>128079.50</td>\n",
       "      <td>155345.0</td>\n",
       "      <td>195958.25</td>\n",
       "      <td>400218.0</td>\n",
       "    </tr>\n",
       "    <tr>\n",
       "      <th>2016</th>\n",
       "      <td>240.0</td>\n",
       "      <td>155454.654167</td>\n",
       "      <td>47083.459377</td>\n",
       "      <td>77890.0</td>\n",
       "      <td>125107.75</td>\n",
       "      <td>144707.5</td>\n",
       "      <td>178409.75</td>\n",
       "      <td>345635.0</td>\n",
       "    </tr>\n",
       "    <tr>\n",
       "      <th rowspan=\"2\" valign=\"top\">1</th>\n",
       "      <th>2015</th>\n",
       "      <td>156.0</td>\n",
       "      <td>164687.455128</td>\n",
       "      <td>36410.673101</td>\n",
       "      <td>102626.0</td>\n",
       "      <td>139511.75</td>\n",
       "      <td>159794.5</td>\n",
       "      <td>181481.75</td>\n",
       "      <td>292331.0</td>\n",
       "    </tr>\n",
       "    <tr>\n",
       "      <th>2016</th>\n",
       "      <td>156.0</td>\n",
       "      <td>162987.762821</td>\n",
       "      <td>27123.796831</td>\n",
       "      <td>116817.0</td>\n",
       "      <td>143499.75</td>\n",
       "      <td>160818.5</td>\n",
       "      <td>180483.25</td>\n",
       "      <td>258800.0</td>\n",
       "    </tr>\n",
       "  </tbody>\n",
       "</table>\n",
       "</div>"
      ],
      "text/plain": [
       "                                count           mean           std       min  \\\n",
       "Online Available Pharmacy Year                                                 \n",
       "0                0        2015  876.0  127993.196347  51898.661907   46848.0   \n",
       "                          2016  876.0  128395.577626  52356.250920   49191.0   \n",
       "                 1        2015  984.0  138102.388211  47063.557315   45491.0   \n",
       "                          2016  984.0  138813.298780  47512.686942   48364.0   \n",
       "1                0        2015  240.0  168321.187500  57707.950671   88798.0   \n",
       "                          2016  240.0  155454.654167  47083.459377   77890.0   \n",
       "                 1        2015  156.0  164687.455128  36410.673101  102626.0   \n",
       "                          2016  156.0  162987.762821  27123.796831  116817.0   \n",
       "\n",
       "                                      25%       50%        75%       max  \n",
       "Online Available Pharmacy Year                                            \n",
       "0                0        2015   88262.25  111467.0  161567.25  320728.0  \n",
       "                          2016   89111.00  111704.5  162773.00  314243.0  \n",
       "                 1        2015  105754.50  130948.0  162891.25  340626.0  \n",
       "                          2016  105705.50  129372.5  164070.25  350586.0  \n",
       "1                0        2015  128079.50  155345.0  195958.25  400218.0  \n",
       "                          2016  125107.75  144707.5  178409.75  345635.0  \n",
       "                 1        2015  139511.75  159794.5  181481.75  292331.0  \n",
       "                          2016  143499.75  160818.5  180483.25  258800.0  "
      ]
     },
     "execution_count": 52,
     "metadata": {},
     "output_type": "execute_result"
    }
   ],
   "source": [
    "df.groupby(['Online Available','Pharmacy', 'Year'])['Store Sales'].describe()"
   ]
  },
  {
   "cell_type": "code",
   "execution_count": 50,
   "metadata": {},
   "outputs": [
    {
     "data": {
      "image/png": "[encoded data removed]",
      "text/plain": [
       "<Figure size 421.5x360 with 1 Axes>"
      ]
     },
     "metadata": {
      "needs_background": "light"
     },
     "output_type": "display_data"
    }
   ],
   "source": [
    "sns.catplot(data=df1, x='Pharmacy',y='Store Sales', hue= 'Year', kind = 'box')\n",
    "plt.xticks([0,1],['No', 'Yes'])\n",
    "plt.title('Stores with Online Delivery')\n",
    "plt.show()"
   ]
  },
  {
   "cell_type": "code",
   "execution_count": 51,
   "metadata": {},
   "outputs": [
    {
     "data": {
      "image/png": "[encoded data removed]",
      "text/plain": [
       "<Figure size 421.5x360 with 1 Axes>"
      ]
     },
     "metadata": {
      "needs_background": "light"
     },
     "output_type": "display_data"
    }
   ],
   "source": [
    "sns.catplot(data=df2, x='Pharmacy',y='Store Sales', hue= 'Year', kind = 'box')\n",
    "plt.xticks([0,1],['No', 'Yes'])\n",
    "plt.show()"
   ]
  },
  {
   "cell_type": "code",
   "execution_count": 48,
   "metadata": {},
   "outputs": [
    {
     "data": {
      "image/png": "[encoded data removed]",
      "text/plain": [
       "<Figure size 421.5x360 with 1 Axes>"
      ]
     },
     "metadata": {
      "needs_background": "light"
     },
     "output_type": "display_data"
    }
   ],
   "source": [
    "sns.catplot(data=df, x='Pharmacy',y='Store Sales', hue= 'Year', kind = 'box')\n",
    "plt.xticks([0,1],['No', 'Yes'])\n",
    "plt.show()"
   ]
  },
  {
   "cell_type": "code",
   "execution_count": 77,
   "metadata": {},
   "outputs": [
    {
     "data": {
      "text/plain": [
       "count      188.000000\n",
       "mean     37363.856383\n",
       "std      12996.949452\n",
       "min      16576.000000\n",
       "25%      27435.500000\n",
       "50%      33706.000000\n",
       "75%      44098.000000\n",
       "max      91672.000000\n",
       "Name: Median Income, dtype: float64"
      ]
     },
     "execution_count": 77,
     "metadata": {},
     "output_type": "execute_result"
    }
   ],
   "source": [
    "df.groupby('Zipcodes')['Median Income'].median().describe()"
   ]
  },
  {
   "cell_type": "code",
   "execution_count": 10,
   "metadata": {},
   "outputs": [
    {
     "data": {
      "text/plain": [
       "<AxesSubplot:xlabel='Income Level 1', ylabel='Median Income'>"
      ]
     },
     "execution_count": 10,
     "metadata": {},
     "output_type": "execute_result"
    },
    {
     "data": {
      "image/png": "[encoded data removed]",
      "text/plain": [
       "<Figure size 432x288 with 1 Axes>"
      ]
     },
     "metadata": {
      "needs_background": "light"
     },
     "output_type": "display_data"
    }
   ],
   "source": [
    "df['Income Level 1'] = pd.qcut(df['Median Income'], 2, labels = ['Low', 'High'])\n",
    "sns.barplot(data=df, x = 'Income Level 1', y='Median Income')"
   ]
  },
  {
   "cell_type": "code",
   "execution_count": 14,
   "metadata": {},
   "outputs": [
    {
     "data": {
      "text/html": [
       "<div>\n",
       "<style scoped>\n",
       "    .dataframe tbody tr th:only-of-type {\n",
       "        vertical-align: middle;\n",
       "    }\n",
       "\n",
       "    .dataframe tbody tr th {\n",
       "        vertical-align: top;\n",
       "    }\n",
       "\n",
       "    .dataframe thead th {\n",
       "        text-align: right;\n",
       "    }\n",
       "</style>\n",
       "<table border=\"1\" class=\"dataframe\">\n",
       "  <thead>\n",
       "    <tr style=\"text-align: right;\">\n",
       "      <th></th>\n",
       "      <th></th>\n",
       "      <th></th>\n",
       "      <th>count</th>\n",
       "      <th>mean</th>\n",
       "      <th>std</th>\n",
       "      <th>min</th>\n",
       "      <th>25%</th>\n",
       "      <th>50%</th>\n",
       "      <th>75%</th>\n",
       "      <th>max</th>\n",
       "    </tr>\n",
       "    <tr>\n",
       "      <th>Online Available</th>\n",
       "      <th>Income Level 1</th>\n",
       "      <th>Year</th>\n",
       "      <th></th>\n",
       "      <th></th>\n",
       "      <th></th>\n",
       "      <th></th>\n",
       "      <th></th>\n",
       "      <th></th>\n",
       "      <th></th>\n",
       "      <th></th>\n",
       "    </tr>\n",
       "  </thead>\n",
       "  <tbody>\n",
       "    <tr>\n",
       "      <th rowspan=\"4\" valign=\"top\">0</th>\n",
       "      <th rowspan=\"2\" valign=\"top\">Low</th>\n",
       "      <th>2015</th>\n",
       "      <td>1128.0</td>\n",
       "      <td>107649.079787</td>\n",
       "      <td>31789.660217</td>\n",
       "      <td>45491.0</td>\n",
       "      <td>86509.25</td>\n",
       "      <td>102227.5</td>\n",
       "      <td>125346.75</td>\n",
       "      <td>235144.0</td>\n",
       "    </tr>\n",
       "    <tr>\n",
       "      <th>2016</th>\n",
       "      <td>1128.0</td>\n",
       "      <td>107777.661348</td>\n",
       "      <td>32049.195990</td>\n",
       "      <td>48364.0</td>\n",
       "      <td>85722.75</td>\n",
       "      <td>102341.5</td>\n",
       "      <td>123505.75</td>\n",
       "      <td>224092.0</td>\n",
       "    </tr>\n",
       "    <tr>\n",
       "      <th rowspan=\"2\" valign=\"top\">High</th>\n",
       "      <th>2015</th>\n",
       "      <td>732.0</td>\n",
       "      <td>172932.551913</td>\n",
       "      <td>46056.196239</td>\n",
       "      <td>93777.0</td>\n",
       "      <td>138881.50</td>\n",
       "      <td>164986.5</td>\n",
       "      <td>200205.00</td>\n",
       "      <td>340626.0</td>\n",
       "    </tr>\n",
       "    <tr>\n",
       "      <th>2016</th>\n",
       "      <td>732.0</td>\n",
       "      <td>174171.598361</td>\n",
       "      <td>46098.475148</td>\n",
       "      <td>94903.0</td>\n",
       "      <td>139577.00</td>\n",
       "      <td>167055.5</td>\n",
       "      <td>198586.00</td>\n",
       "      <td>350586.0</td>\n",
       "    </tr>\n",
       "    <tr>\n",
       "      <th rowspan=\"2\" valign=\"top\">1</th>\n",
       "      <th rowspan=\"2\" valign=\"top\">High</th>\n",
       "      <th>2015</th>\n",
       "      <td>396.0</td>\n",
       "      <td>166889.717172</td>\n",
       "      <td>50382.266358</td>\n",
       "      <td>88798.0</td>\n",
       "      <td>133635.00</td>\n",
       "      <td>157441.0</td>\n",
       "      <td>188870.75</td>\n",
       "      <td>400218.0</td>\n",
       "    </tr>\n",
       "    <tr>\n",
       "      <th>2016</th>\n",
       "      <td>396.0</td>\n",
       "      <td>158422.242424</td>\n",
       "      <td>40541.476109</td>\n",
       "      <td>77890.0</td>\n",
       "      <td>130470.75</td>\n",
       "      <td>152129.0</td>\n",
       "      <td>178583.25</td>\n",
       "      <td>345635.0</td>\n",
       "    </tr>\n",
       "  </tbody>\n",
       "</table>\n",
       "</div>"
      ],
      "text/plain": [
       "                                       count           mean           std  \\\n",
       "Online Available Income Level 1 Year                                        \n",
       "0                Low            2015  1128.0  107649.079787  31789.660217   \n",
       "                                2016  1128.0  107777.661348  32049.195990   \n",
       "                 High           2015   732.0  172932.551913  46056.196239   \n",
       "                                2016   732.0  174171.598361  46098.475148   \n",
       "1                High           2015   396.0  166889.717172  50382.266358   \n",
       "                                2016   396.0  158422.242424  40541.476109   \n",
       "\n",
       "                                          min        25%       50%        75%  \\\n",
       "Online Available Income Level 1 Year                                            \n",
       "0                Low            2015  45491.0   86509.25  102227.5  125346.75   \n",
       "                                2016  48364.0   85722.75  102341.5  123505.75   \n",
       "                 High           2015  93777.0  138881.50  164986.5  200205.00   \n",
       "                                2016  94903.0  139577.00  167055.5  198586.00   \n",
       "1                High           2015  88798.0  133635.00  157441.0  188870.75   \n",
       "                                2016  77890.0  130470.75  152129.0  178583.25   \n",
       "\n",
       "                                           max  \n",
       "Online Available Income Level 1 Year            \n",
       "0                Low            2015  235144.0  \n",
       "                                2016  224092.0  \n",
       "                 High           2015  340626.0  \n",
       "                                2016  350586.0  \n",
       "1                High           2015  400218.0  \n",
       "                                2016  345635.0  "
      ]
     },
     "execution_count": 14,
     "metadata": {},
     "output_type": "execute_result"
    }
   ],
   "source": [
    "df.groupby(['Online Available','Income Level 1', 'Year'])['Store Sales'].describe()"
   ]
  },
  {
   "cell_type": "code",
   "execution_count": 11,
   "metadata": {},
   "outputs": [
    {
     "data": {
      "image/png": "[encoded data removed]",
      "text/plain": [
       "<Figure size 421.5x360 with 1 Axes>"
      ]
     },
     "metadata": {
      "needs_background": "light"
     },
     "output_type": "display_data"
    }
   ],
   "source": [
    "sns.catplot(data=df[df['Online Available'] == 1], x='Income Level 1',y='Store Sales', hue= 'Year', kind = 'box')\n",
    "plt.title('Stores with Online Delivery')\n",
    "plt.show()"
   ]
  },
  {
   "cell_type": "code",
   "execution_count": 12,
   "metadata": {},
   "outputs": [
    {
     "data": {
      "image/png": "[encoded data removed]",
      "text/plain": [
       "<Figure size 421.5x360 with 1 Axes>"
      ]
     },
     "metadata": {
      "needs_background": "light"
     },
     "output_type": "display_data"
    }
   ],
   "source": [
    "sns.catplot(data=df[df['Online Available'] == 0], x='Income Level 1',y='Store Sales', hue= 'Year', kind = 'box')\n",
    "plt.title('Stores without Online Delivery')\n",
    "plt.show()"
   ]
  },
  {
   "cell_type": "code",
   "execution_count": 16,
   "metadata": {},
   "outputs": [
    {
     "data": {
      "text/plain": [
       "<AxesSubplot:xlabel='Income Level 2', ylabel='Median Income'>"
      ]
     },
     "execution_count": 16,
     "metadata": {},
     "output_type": "execute_result"
    },
    {
     "data": {
      "image/png": "[encoded data removed]",
      "text/plain": [
       "<Figure size 432x288 with 1 Axes>"
      ]
     },
     "metadata": {
      "needs_background": "light"
     },
     "output_type": "display_data"
    }
   ],
   "source": [
    "df['Income Level 2'] = pd.cut(df['Median Income'], bins=[0,27435.5,44098,91672], labels = ['Low', 'Medium', 'High'])\n",
    "sns.barplot(data=df, x = 'Income Level 2', y='Median Income')"
   ]
  },
  {
   "cell_type": "code",
   "execution_count": 17,
   "metadata": {},
   "outputs": [
    {
     "data": {
      "text/html": [
       "<div>\n",
       "<style scoped>\n",
       "    .dataframe tbody tr th:only-of-type {\n",
       "        vertical-align: middle;\n",
       "    }\n",
       "\n",
       "    .dataframe tbody tr th {\n",
       "        vertical-align: top;\n",
       "    }\n",
       "\n",
       "    .dataframe thead th {\n",
       "        text-align: right;\n",
       "    }\n",
       "</style>\n",
       "<table border=\"1\" class=\"dataframe\">\n",
       "  <thead>\n",
       "    <tr style=\"text-align: right;\">\n",
       "      <th></th>\n",
       "      <th></th>\n",
       "      <th></th>\n",
       "      <th>count</th>\n",
       "      <th>mean</th>\n",
       "      <th>std</th>\n",
       "      <th>min</th>\n",
       "      <th>25%</th>\n",
       "      <th>50%</th>\n",
       "      <th>75%</th>\n",
       "      <th>max</th>\n",
       "    </tr>\n",
       "    <tr>\n",
       "      <th>Online Available</th>\n",
       "      <th>Income Level 2</th>\n",
       "      <th>Year</th>\n",
       "      <th></th>\n",
       "      <th></th>\n",
       "      <th></th>\n",
       "      <th></th>\n",
       "      <th></th>\n",
       "      <th></th>\n",
       "      <th></th>\n",
       "      <th></th>\n",
       "    </tr>\n",
       "  </thead>\n",
       "  <tbody>\n",
       "    <tr>\n",
       "      <th rowspan=\"6\" valign=\"top\">0</th>\n",
       "      <th rowspan=\"2\" valign=\"top\">Low</th>\n",
       "      <th>2015</th>\n",
       "      <td>564.0</td>\n",
       "      <td>93443.774823</td>\n",
       "      <td>24816.207125</td>\n",
       "      <td>45491.0</td>\n",
       "      <td>75214.50</td>\n",
       "      <td>90373.5</td>\n",
       "      <td>108760.50</td>\n",
       "      <td>163039.0</td>\n",
       "    </tr>\n",
       "    <tr>\n",
       "      <th>2016</th>\n",
       "      <td>564.0</td>\n",
       "      <td>92942.806738</td>\n",
       "      <td>23779.866202</td>\n",
       "      <td>48364.0</td>\n",
       "      <td>75986.75</td>\n",
       "      <td>90908.5</td>\n",
       "      <td>108434.50</td>\n",
       "      <td>165908.0</td>\n",
       "    </tr>\n",
       "    <tr>\n",
       "      <th rowspan=\"2\" valign=\"top\">Medium</th>\n",
       "      <th>2015</th>\n",
       "      <td>912.0</td>\n",
       "      <td>132102.315789</td>\n",
       "      <td>34765.246402</td>\n",
       "      <td>75757.0</td>\n",
       "      <td>105125.00</td>\n",
       "      <td>126097.5</td>\n",
       "      <td>152233.00</td>\n",
       "      <td>259868.0</td>\n",
       "    </tr>\n",
       "    <tr>\n",
       "      <th>2016</th>\n",
       "      <td>912.0</td>\n",
       "      <td>132962.788377</td>\n",
       "      <td>35476.123728</td>\n",
       "      <td>75790.0</td>\n",
       "      <td>105575.50</td>\n",
       "      <td>126359.0</td>\n",
       "      <td>154169.50</td>\n",
       "      <td>288603.0</td>\n",
       "    </tr>\n",
       "    <tr>\n",
       "      <th rowspan=\"2\" valign=\"top\">High</th>\n",
       "      <th>2015</th>\n",
       "      <td>384.0</td>\n",
       "      <td>194883.304688</td>\n",
       "      <td>45132.404939</td>\n",
       "      <td>107545.0</td>\n",
       "      <td>163461.50</td>\n",
       "      <td>185846.0</td>\n",
       "      <td>218436.00</td>\n",
       "      <td>340626.0</td>\n",
       "    </tr>\n",
       "    <tr>\n",
       "      <th>2016</th>\n",
       "      <td>384.0</td>\n",
       "      <td>196315.119792</td>\n",
       "      <td>44550.532873</td>\n",
       "      <td>114267.0</td>\n",
       "      <td>164185.50</td>\n",
       "      <td>188612.0</td>\n",
       "      <td>217882.50</td>\n",
       "      <td>350586.0</td>\n",
       "    </tr>\n",
       "    <tr>\n",
       "      <th rowspan=\"4\" valign=\"top\">1</th>\n",
       "      <th rowspan=\"2\" valign=\"top\">Medium</th>\n",
       "      <th>2015</th>\n",
       "      <td>216.0</td>\n",
       "      <td>144713.259259</td>\n",
       "      <td>29292.243661</td>\n",
       "      <td>88798.0</td>\n",
       "      <td>122953.00</td>\n",
       "      <td>140735.0</td>\n",
       "      <td>165548.00</td>\n",
       "      <td>231930.0</td>\n",
       "    </tr>\n",
       "    <tr>\n",
       "      <th>2016</th>\n",
       "      <td>216.0</td>\n",
       "      <td>141802.893519</td>\n",
       "      <td>28249.013556</td>\n",
       "      <td>77890.0</td>\n",
       "      <td>122073.50</td>\n",
       "      <td>142180.0</td>\n",
       "      <td>161077.75</td>\n",
       "      <td>213996.0</td>\n",
       "    </tr>\n",
       "    <tr>\n",
       "      <th rowspan=\"2\" valign=\"top\">High</th>\n",
       "      <th>2015</th>\n",
       "      <td>180.0</td>\n",
       "      <td>193501.466667</td>\n",
       "      <td>57142.304038</td>\n",
       "      <td>115884.0</td>\n",
       "      <td>152769.25</td>\n",
       "      <td>182842.5</td>\n",
       "      <td>219426.50</td>\n",
       "      <td>400218.0</td>\n",
       "    </tr>\n",
       "    <tr>\n",
       "      <th>2016</th>\n",
       "      <td>180.0</td>\n",
       "      <td>178365.461111</td>\n",
       "      <td>43991.076552</td>\n",
       "      <td>114105.0</td>\n",
       "      <td>145820.00</td>\n",
       "      <td>170500.0</td>\n",
       "      <td>201403.25</td>\n",
       "      <td>345635.0</td>\n",
       "    </tr>\n",
       "  </tbody>\n",
       "</table>\n",
       "</div>"
      ],
      "text/plain": [
       "                                      count           mean           std  \\\n",
       "Online Available Income Level 2 Year                                       \n",
       "0                Low            2015  564.0   93443.774823  24816.207125   \n",
       "                                2016  564.0   92942.806738  23779.866202   \n",
       "                 Medium         2015  912.0  132102.315789  34765.246402   \n",
       "                                2016  912.0  132962.788377  35476.123728   \n",
       "                 High           2015  384.0  194883.304688  45132.404939   \n",
       "                                2016  384.0  196315.119792  44550.532873   \n",
       "1                Medium         2015  216.0  144713.259259  29292.243661   \n",
       "                                2016  216.0  141802.893519  28249.013556   \n",
       "                 High           2015  180.0  193501.466667  57142.304038   \n",
       "                                2016  180.0  178365.461111  43991.076552   \n",
       "\n",
       "                                           min        25%       50%  \\\n",
       "Online Available Income Level 2 Year                                  \n",
       "0                Low            2015   45491.0   75214.50   90373.5   \n",
       "                                2016   48364.0   75986.75   90908.5   \n",
       "                 Medium         2015   75757.0  105125.00  126097.5   \n",
       "                                2016   75790.0  105575.50  126359.0   \n",
       "                 High           2015  107545.0  163461.50  185846.0   \n",
       "                                2016  114267.0  164185.50  188612.0   \n",
       "1                Medium         2015   88798.0  122953.00  140735.0   \n",
       "                                2016   77890.0  122073.50  142180.0   \n",
       "                 High           2015  115884.0  152769.25  182842.5   \n",
       "                                2016  114105.0  145820.00  170500.0   \n",
       "\n",
       "                                            75%       max  \n",
       "Online Available Income Level 2 Year                       \n",
       "0                Low            2015  108760.50  163039.0  \n",
       "                                2016  108434.50  165908.0  \n",
       "                 Medium         2015  152233.00  259868.0  \n",
       "                                2016  154169.50  288603.0  \n",
       "                 High           2015  218436.00  340626.0  \n",
       "                                2016  217882.50  350586.0  \n",
       "1                Medium         2015  165548.00  231930.0  \n",
       "                                2016  161077.75  213996.0  \n",
       "                 High           2015  219426.50  400218.0  \n",
       "                                2016  201403.25  345635.0  "
      ]
     },
     "execution_count": 17,
     "metadata": {},
     "output_type": "execute_result"
    }
   ],
   "source": [
    "df.groupby(['Online Available','Income Level 2', 'Year'])['Store Sales'].describe()"
   ]
  },
  {
   "cell_type": "code",
   "execution_count": 18,
   "metadata": {},
   "outputs": [
    {
     "data": {
      "image/png": "[encoded data removed]",
      "text/plain": [
       "<Figure size 421.5x360 with 1 Axes>"
      ]
     },
     "metadata": {
      "needs_background": "light"
     },
     "output_type": "display_data"
    }
   ],
   "source": [
    "sns.catplot(data=df[df['Online Available'] == 1], x='Income Level 2',y='Store Sales', hue= 'Year', kind = 'box')\n",
    "plt.title('Stores with Online Delivery')\n",
    "plt.show()"
   ]
  },
  {
   "cell_type": "code",
   "execution_count": 20,
   "metadata": {},
   "outputs": [
    {
     "data": {
      "image/png": "[encoded data removed]",
      "text/plain": [
       "<Figure size 421.5x360 with 1 Axes>"
      ]
     },
     "metadata": {
      "needs_background": "light"
     },
     "output_type": "display_data"
    }
   ],
   "source": [
    "sns.catplot(data=df[df['Online Available'] == 0], x='Income Level 2',y='Store Sales', hue= 'Year', kind = 'box')\n",
    "plt.title('Stores without Online Delivery')\n",
    "plt.show()"
   ]
  },
  {
   "cell_type": "code",
   "execution_count": 69,
   "metadata": {},
   "outputs": [
    {
     "data": {
      "text/plain": [
       "<AxesSubplot:>"
      ]
     },
     "execution_count": 69,
     "metadata": {},
     "output_type": "execute_result"
    },
    {
     "data": {
      "image/png": "[encoded data removed]",
      "text/plain": [
       "<Figure size 432x288 with 1 Axes>"
      ]
     },
     "metadata": {
      "needs_background": "light"
     },
     "output_type": "display_data"
    }
   ],
   "source": [
    "df['Median Income'].hist()"
   ]
  },
  {
   "cell_type": "code",
   "execution_count": 21,
   "metadata": {},
   "outputs": [
    {
     "data": {
      "text/plain": [
       "count      188.000000\n",
       "mean     38700.595745\n",
       "std       7311.235663\n",
       "min      30080.000000\n",
       "25%      32803.750000\n",
       "50%      36750.500000\n",
       "75%      42759.500000\n",
       "max      65076.000000\n",
       "Name: Population, dtype: float64"
      ]
     },
     "execution_count": 21,
     "metadata": {},
     "output_type": "execute_result"
    }
   ],
   "source": [
    "df.groupby('Zipcodes')['Population'].median().describe()"
   ]
  },
  {
   "cell_type": "code",
   "execution_count": 33,
   "metadata": {},
   "outputs": [
    {
     "data": {
      "text/plain": [
       "<AxesSubplot:xlabel='Population Level 1', ylabel='Population'>"
      ]
     },
     "execution_count": 33,
     "metadata": {},
     "output_type": "execute_result"
    },
    {
     "data": {
      "image/png": "[encoded data removed]",
      "text/plain": [
       "<Figure size 432x288 with 1 Axes>"
      ]
     },
     "metadata": {
      "needs_background": "light"
     },
     "output_type": "display_data"
    }
   ],
   "source": [
    "df['Population Level 1'] = pd.qcut(df['Population'], 2, labels = ['Small', 'Large'])\n",
    "sns.barplot(data=df, x = 'Population Level 1', y='Population')"
   ]
  },
  {
   "cell_type": "code",
   "execution_count": 34,
   "metadata": {},
   "outputs": [
    {
     "data": {
      "text/html": [
       "<div>\n",
       "<style scoped>\n",
       "    .dataframe tbody tr th:only-of-type {\n",
       "        vertical-align: middle;\n",
       "    }\n",
       "\n",
       "    .dataframe tbody tr th {\n",
       "        vertical-align: top;\n",
       "    }\n",
       "\n",
       "    .dataframe thead th {\n",
       "        text-align: right;\n",
       "    }\n",
       "</style>\n",
       "<table border=\"1\" class=\"dataframe\">\n",
       "  <thead>\n",
       "    <tr style=\"text-align: right;\">\n",
       "      <th></th>\n",
       "      <th></th>\n",
       "      <th></th>\n",
       "      <th>count</th>\n",
       "      <th>mean</th>\n",
       "      <th>std</th>\n",
       "      <th>min</th>\n",
       "      <th>25%</th>\n",
       "      <th>50%</th>\n",
       "      <th>75%</th>\n",
       "      <th>max</th>\n",
       "    </tr>\n",
       "    <tr>\n",
       "      <th>Online Available</th>\n",
       "      <th>Population Level 1</th>\n",
       "      <th>Year</th>\n",
       "      <th></th>\n",
       "      <th></th>\n",
       "      <th></th>\n",
       "      <th></th>\n",
       "      <th></th>\n",
       "      <th></th>\n",
       "      <th></th>\n",
       "      <th></th>\n",
       "    </tr>\n",
       "  </thead>\n",
       "  <tbody>\n",
       "    <tr>\n",
       "      <th rowspan=\"4\" valign=\"top\">0</th>\n",
       "      <th rowspan=\"2\" valign=\"top\">Small</th>\n",
       "      <th>2015</th>\n",
       "      <td>888.0</td>\n",
       "      <td>118280.391892</td>\n",
       "      <td>46403.723310</td>\n",
       "      <td>45491.0</td>\n",
       "      <td>86483.25</td>\n",
       "      <td>105369.0</td>\n",
       "      <td>146178.50</td>\n",
       "      <td>332239.0</td>\n",
       "    </tr>\n",
       "    <tr>\n",
       "      <th>2016</th>\n",
       "      <td>888.0</td>\n",
       "      <td>119258.338964</td>\n",
       "      <td>46541.608684</td>\n",
       "      <td>48364.0</td>\n",
       "      <td>85270.75</td>\n",
       "      <td>105501.5</td>\n",
       "      <td>148450.25</td>\n",
       "      <td>307192.0</td>\n",
       "    </tr>\n",
       "    <tr>\n",
       "      <th rowspan=\"2\" valign=\"top\">Large</th>\n",
       "      <th>2015</th>\n",
       "      <td>972.0</td>\n",
       "      <td>147100.619342</td>\n",
       "      <td>48521.348960</td>\n",
       "      <td>51101.0</td>\n",
       "      <td>111263.25</td>\n",
       "      <td>137386.5</td>\n",
       "      <td>175846.75</td>\n",
       "      <td>340626.0</td>\n",
       "    </tr>\n",
       "    <tr>\n",
       "      <th>2016</th>\n",
       "      <td>972.0</td>\n",
       "      <td>147289.513374</td>\n",
       "      <td>49528.442587</td>\n",
       "      <td>49537.0</td>\n",
       "      <td>110833.25</td>\n",
       "      <td>137342.5</td>\n",
       "      <td>175082.75</td>\n",
       "      <td>350586.0</td>\n",
       "    </tr>\n",
       "    <tr>\n",
       "      <th rowspan=\"4\" valign=\"top\">1</th>\n",
       "      <th rowspan=\"2\" valign=\"top\">Small</th>\n",
       "      <th>2015</th>\n",
       "      <td>240.0</td>\n",
       "      <td>147648.433333</td>\n",
       "      <td>37846.204301</td>\n",
       "      <td>88798.0</td>\n",
       "      <td>122953.00</td>\n",
       "      <td>138787.5</td>\n",
       "      <td>162328.00</td>\n",
       "      <td>292331.0</td>\n",
       "    </tr>\n",
       "    <tr>\n",
       "      <th>2016</th>\n",
       "      <td>240.0</td>\n",
       "      <td>141049.987500</td>\n",
       "      <td>29717.662228</td>\n",
       "      <td>77890.0</td>\n",
       "      <td>122247.50</td>\n",
       "      <td>137991.5</td>\n",
       "      <td>156046.50</td>\n",
       "      <td>258800.0</td>\n",
       "    </tr>\n",
       "    <tr>\n",
       "      <th rowspan=\"2\" valign=\"top\">Large</th>\n",
       "      <th>2015</th>\n",
       "      <td>156.0</td>\n",
       "      <td>196491.692308</td>\n",
       "      <td>52962.278191</td>\n",
       "      <td>125237.0</td>\n",
       "      <td>165520.00</td>\n",
       "      <td>184465.5</td>\n",
       "      <td>209577.50</td>\n",
       "      <td>400218.0</td>\n",
       "    </tr>\n",
       "    <tr>\n",
       "      <th>2016</th>\n",
       "      <td>156.0</td>\n",
       "      <td>185148.788462</td>\n",
       "      <td>40504.335295</td>\n",
       "      <td>122036.0</td>\n",
       "      <td>161138.50</td>\n",
       "      <td>178282.5</td>\n",
       "      <td>202050.00</td>\n",
       "      <td>345635.0</td>\n",
       "    </tr>\n",
       "  </tbody>\n",
       "</table>\n",
       "</div>"
      ],
      "text/plain": [
       "                                          count           mean           std  \\\n",
       "Online Available Population Level 1 Year                                       \n",
       "0                Small              2015  888.0  118280.391892  46403.723310   \n",
       "                                    2016  888.0  119258.338964  46541.608684   \n",
       "                 Large              2015  972.0  147100.619342  48521.348960   \n",
       "                                    2016  972.0  147289.513374  49528.442587   \n",
       "1                Small              2015  240.0  147648.433333  37846.204301   \n",
       "                                    2016  240.0  141049.987500  29717.662228   \n",
       "                 Large              2015  156.0  196491.692308  52962.278191   \n",
       "                                    2016  156.0  185148.788462  40504.335295   \n",
       "\n",
       "                                               min        25%       50%  \\\n",
       "Online Available Population Level 1 Year                                  \n",
       "0                Small              2015   45491.0   86483.25  105369.0   \n",
       "                                    2016   48364.0   85270.75  105501.5   \n",
       "                 Large              2015   51101.0  111263.25  137386.5   \n",
       "                                    2016   49537.0  110833.25  137342.5   \n",
       "1                Small              2015   88798.0  122953.00  138787.5   \n",
       "                                    2016   77890.0  122247.50  137991.5   \n",
       "                 Large              2015  125237.0  165520.00  184465.5   \n",
       "                                    2016  122036.0  161138.50  178282.5   \n",
       "\n",
       "                                                75%       max  \n",
       "Online Available Population Level 1 Year                       \n",
       "0                Small              2015  146178.50  332239.0  \n",
       "                                    2016  148450.25  307192.0  \n",
       "                 Large              2015  175846.75  340626.0  \n",
       "                                    2016  175082.75  350586.0  \n",
       "1                Small              2015  162328.00  292331.0  \n",
       "                                    2016  156046.50  258800.0  \n",
       "                 Large              2015  209577.50  400218.0  \n",
       "                                    2016  202050.00  345635.0  "
      ]
     },
     "execution_count": 34,
     "metadata": {},
     "output_type": "execute_result"
    }
   ],
   "source": [
    "df.groupby(['Online Available','Population Level 1', 'Year'])['Store Sales'].describe()"
   ]
  },
  {
   "cell_type": "code",
   "execution_count": 35,
   "metadata": {},
   "outputs": [
    {
     "data": {
      "image/png": "[encoded data removed]",
      "text/plain": [
       "<Figure size 421.5x360 with 1 Axes>"
      ]
     },
     "metadata": {
      "needs_background": "light"
     },
     "output_type": "display_data"
    }
   ],
   "source": [
    "sns.catplot(data=df[df['Online Available'] == 1], x='Population Level 1',y='Store Sales', hue= 'Year', kind = 'box')\n",
    "plt.title('Stores with Online Delivery')\n",
    "plt.show()"
   ]
  },
  {
   "cell_type": "code",
   "execution_count": 36,
   "metadata": {},
   "outputs": [
    {
     "data": {
      "image/png": "[encoded data removed]",
      "text/plain": [
       "<Figure size 421.5x360 with 1 Axes>"
      ]
     },
     "metadata": {
      "needs_background": "light"
     },
     "output_type": "display_data"
    }
   ],
   "source": [
    "sns.catplot(data=df[df['Online Available'] == 0], x='Population Level 1',y='Store Sales', hue= 'Year', kind = 'box')\n",
    "plt.title('Stores without Online Delivery')\n",
    "plt.show()"
   ]
  },
  {
   "cell_type": "code",
   "execution_count": 38,
   "metadata": {},
   "outputs": [
    {
     "data": {
      "text/plain": [
       "<AxesSubplot:xlabel='Population Level 2', ylabel='Population'>"
      ]
     },
     "execution_count": 38,
     "metadata": {},
     "output_type": "execute_result"
    },
    {
     "data": {
      "image/png": "[encoded data removed]",
      "text/plain": [
       "<Figure size 432x288 with 1 Axes>"
      ]
     },
     "metadata": {
      "needs_background": "light"
     },
     "output_type": "display_data"
    }
   ],
   "source": [
    "df['Population Level 2'] = pd.cut(df['Population'], bins=[0,32803.75,42759.5,65076], labels = ['Small', 'Medium', 'Large'])\n",
    "sns.barplot(data=df, x = 'Population Level 2', y='Population')"
   ]
  },
  {
   "cell_type": "code",
   "execution_count": 40,
   "metadata": {},
   "outputs": [
    {
     "data": {
      "text/html": [
       "<div>\n",
       "<style scoped>\n",
       "    .dataframe tbody tr th:only-of-type {\n",
       "        vertical-align: middle;\n",
       "    }\n",
       "\n",
       "    .dataframe tbody tr th {\n",
       "        vertical-align: top;\n",
       "    }\n",
       "\n",
       "    .dataframe thead th {\n",
       "        text-align: right;\n",
       "    }\n",
       "</style>\n",
       "<table border=\"1\" class=\"dataframe\">\n",
       "  <thead>\n",
       "    <tr style=\"text-align: right;\">\n",
       "      <th></th>\n",
       "      <th></th>\n",
       "      <th></th>\n",
       "      <th>count</th>\n",
       "      <th>mean</th>\n",
       "      <th>std</th>\n",
       "      <th>min</th>\n",
       "      <th>25%</th>\n",
       "      <th>50%</th>\n",
       "      <th>75%</th>\n",
       "      <th>max</th>\n",
       "    </tr>\n",
       "    <tr>\n",
       "      <th>Online Available</th>\n",
       "      <th>Population Level 2</th>\n",
       "      <th>Year</th>\n",
       "      <th></th>\n",
       "      <th></th>\n",
       "      <th></th>\n",
       "      <th></th>\n",
       "      <th></th>\n",
       "      <th></th>\n",
       "      <th></th>\n",
       "      <th></th>\n",
       "    </tr>\n",
       "  </thead>\n",
       "  <tbody>\n",
       "    <tr>\n",
       "      <th rowspan=\"6\" valign=\"top\">0</th>\n",
       "      <th rowspan=\"2\" valign=\"top\">Small</th>\n",
       "      <th>2015</th>\n",
       "      <td>444.0</td>\n",
       "      <td>109297.608108</td>\n",
       "      <td>42192.054042</td>\n",
       "      <td>45491.0</td>\n",
       "      <td>77759.50</td>\n",
       "      <td>97741.0</td>\n",
       "      <td>140907.25</td>\n",
       "      <td>238323.0</td>\n",
       "    </tr>\n",
       "    <tr>\n",
       "      <th>2016</th>\n",
       "      <td>444.0</td>\n",
       "      <td>110596.819820</td>\n",
       "      <td>42604.556412</td>\n",
       "      <td>48364.0</td>\n",
       "      <td>77591.00</td>\n",
       "      <td>99348.5</td>\n",
       "      <td>139398.25</td>\n",
       "      <td>233974.0</td>\n",
       "    </tr>\n",
       "    <tr>\n",
       "      <th rowspan=\"2\" valign=\"top\">Medium</th>\n",
       "      <th>2015</th>\n",
       "      <td>924.0</td>\n",
       "      <td>129224.656926</td>\n",
       "      <td>45503.224578</td>\n",
       "      <td>51101.0</td>\n",
       "      <td>97812.50</td>\n",
       "      <td>118199.5</td>\n",
       "      <td>147597.50</td>\n",
       "      <td>332239.0</td>\n",
       "    </tr>\n",
       "    <tr>\n",
       "      <th>2016</th>\n",
       "      <td>924.0</td>\n",
       "      <td>129607.054113</td>\n",
       "      <td>45070.593471</td>\n",
       "      <td>49537.0</td>\n",
       "      <td>97723.75</td>\n",
       "      <td>118695.0</td>\n",
       "      <td>151160.75</td>\n",
       "      <td>314243.0</td>\n",
       "    </tr>\n",
       "    <tr>\n",
       "      <th rowspan=\"2\" valign=\"top\">Large</th>\n",
       "      <th>2015</th>\n",
       "      <td>492.0</td>\n",
       "      <td>162770.465447</td>\n",
       "      <td>49091.565782</td>\n",
       "      <td>74331.0</td>\n",
       "      <td>129478.00</td>\n",
       "      <td>155033.5</td>\n",
       "      <td>194035.75</td>\n",
       "      <td>340626.0</td>\n",
       "    </tr>\n",
       "    <tr>\n",
       "      <th>2016</th>\n",
       "      <td>492.0</td>\n",
       "      <td>163018.101626</td>\n",
       "      <td>51723.124333</td>\n",
       "      <td>70069.0</td>\n",
       "      <td>124142.50</td>\n",
       "      <td>156609.5</td>\n",
       "      <td>196536.25</td>\n",
       "      <td>350586.0</td>\n",
       "    </tr>\n",
       "    <tr>\n",
       "      <th rowspan=\"6\" valign=\"top\">1</th>\n",
       "      <th rowspan=\"2\" valign=\"top\">Small</th>\n",
       "      <th>2015</th>\n",
       "      <td>120.0</td>\n",
       "      <td>146882.733333</td>\n",
       "      <td>46743.388482</td>\n",
       "      <td>88798.0</td>\n",
       "      <td>115851.00</td>\n",
       "      <td>131968.0</td>\n",
       "      <td>156280.25</td>\n",
       "      <td>292331.0</td>\n",
       "    </tr>\n",
       "    <tr>\n",
       "      <th>2016</th>\n",
       "      <td>120.0</td>\n",
       "      <td>138285.650000</td>\n",
       "      <td>37584.333643</td>\n",
       "      <td>77890.0</td>\n",
       "      <td>110006.00</td>\n",
       "      <td>131649.0</td>\n",
       "      <td>153265.00</td>\n",
       "      <td>258800.0</td>\n",
       "    </tr>\n",
       "    <tr>\n",
       "      <th rowspan=\"2\" valign=\"top\">Medium</th>\n",
       "      <th>2015</th>\n",
       "      <td>204.0</td>\n",
       "      <td>167382.558824</td>\n",
       "      <td>53581.994381</td>\n",
       "      <td>102626.0</td>\n",
       "      <td>137018.25</td>\n",
       "      <td>154877.5</td>\n",
       "      <td>175077.00</td>\n",
       "      <td>400218.0</td>\n",
       "    </tr>\n",
       "    <tr>\n",
       "      <th>2016</th>\n",
       "      <td>204.0</td>\n",
       "      <td>159314.073529</td>\n",
       "      <td>40319.058575</td>\n",
       "      <td>111642.0</td>\n",
       "      <td>133345.00</td>\n",
       "      <td>149803.5</td>\n",
       "      <td>168306.00</td>\n",
       "      <td>345635.0</td>\n",
       "    </tr>\n",
       "    <tr>\n",
       "      <th rowspan=\"2\" valign=\"top\">Large</th>\n",
       "      <th>2015</th>\n",
       "      <td>72.0</td>\n",
       "      <td>198838.305556</td>\n",
       "      <td>23212.242749</td>\n",
       "      <td>145618.0</td>\n",
       "      <td>182886.25</td>\n",
       "      <td>197273.0</td>\n",
       "      <td>219848.75</td>\n",
       "      <td>247710.0</td>\n",
       "    </tr>\n",
       "    <tr>\n",
       "      <th>2016</th>\n",
       "      <td>72.0</td>\n",
       "      <td>189456.375000</td>\n",
       "      <td>21546.680059</td>\n",
       "      <td>150737.0</td>\n",
       "      <td>172106.00</td>\n",
       "      <td>184167.5</td>\n",
       "      <td>207392.25</td>\n",
       "      <td>251721.0</td>\n",
       "    </tr>\n",
       "  </tbody>\n",
       "</table>\n",
       "</div>"
      ],
      "text/plain": [
       "                                          count           mean           std  \\\n",
       "Online Available Population Level 2 Year                                       \n",
       "0                Small              2015  444.0  109297.608108  42192.054042   \n",
       "                                    2016  444.0  110596.819820  42604.556412   \n",
       "                 Medium             2015  924.0  129224.656926  45503.224578   \n",
       "                                    2016  924.0  129607.054113  45070.593471   \n",
       "                 Large              2015  492.0  162770.465447  49091.565782   \n",
       "                                    2016  492.0  163018.101626  51723.124333   \n",
       "1                Small              2015  120.0  146882.733333  46743.388482   \n",
       "                                    2016  120.0  138285.650000  37584.333643   \n",
       "                 Medium             2015  204.0  167382.558824  53581.994381   \n",
       "                                    2016  204.0  159314.073529  40319.058575   \n",
       "                 Large              2015   72.0  198838.305556  23212.242749   \n",
       "                                    2016   72.0  189456.375000  21546.680059   \n",
       "\n",
       "                                               min        25%       50%  \\\n",
       "Online Available Population Level 2 Year                                  \n",
       "0                Small              2015   45491.0   77759.50   97741.0   \n",
       "                                    2016   48364.0   77591.00   99348.5   \n",
       "                 Medium             2015   51101.0   97812.50  118199.5   \n",
       "                                    2016   49537.0   97723.75  118695.0   \n",
       "                 Large              2015   74331.0  129478.00  155033.5   \n",
       "                                    2016   70069.0  124142.50  156609.5   \n",
       "1                Small              2015   88798.0  115851.00  131968.0   \n",
       "                                    2016   77890.0  110006.00  131649.0   \n",
       "                 Medium             2015  102626.0  137018.25  154877.5   \n",
       "                                    2016  111642.0  133345.00  149803.5   \n",
       "                 Large              2015  145618.0  182886.25  197273.0   \n",
       "                                    2016  150737.0  172106.00  184167.5   \n",
       "\n",
       "                                                75%       max  \n",
       "Online Available Population Level 2 Year                       \n",
       "0                Small              2015  140907.25  238323.0  \n",
       "                                    2016  139398.25  233974.0  \n",
       "                 Medium             2015  147597.50  332239.0  \n",
       "                                    2016  151160.75  314243.0  \n",
       "                 Large              2015  194035.75  340626.0  \n",
       "                                    2016  196536.25  350586.0  \n",
       "1                Small              2015  156280.25  292331.0  \n",
       "                                    2016  153265.00  258800.0  \n",
       "                 Medium             2015  175077.00  400218.0  \n",
       "                                    2016  168306.00  345635.0  \n",
       "                 Large              2015  219848.75  247710.0  \n",
       "                                    2016  207392.25  251721.0  "
      ]
     },
     "execution_count": 40,
     "metadata": {},
     "output_type": "execute_result"
    }
   ],
   "source": [
    "df.groupby(['Online Available','Population Level 2','Year'])['Store Sales'].describe()"
   ]
  },
  {
   "cell_type": "code",
   "execution_count": 41,
   "metadata": {},
   "outputs": [
    {
     "data": {
      "image/png": "[encoded data removed]",
      "text/plain": [
       "<Figure size 421.5x360 with 1 Axes>"
      ]
     },
     "metadata": {
      "needs_background": "light"
     },
     "output_type": "display_data"
    }
   ],
   "source": [
    "sns.catplot(data=df[df['Online Available'] == 1], x='Population Level 2',y='Store Sales', hue= 'Year', kind = 'box')\n",
    "plt.title('Stores with Online Delivery')\n",
    "plt.show()"
   ]
  },
  {
   "cell_type": "code",
   "execution_count": 42,
   "metadata": {},
   "outputs": [
    {
     "data": {
      "image/png": "[encoded data removed]",
      "text/plain": [
       "<Figure size 421.5x360 with 1 Axes>"
      ]
     },
     "metadata": {
      "needs_background": "light"
     },
     "output_type": "display_data"
    }
   ],
   "source": [
    "sns.catplot(data=df[df['Online Available'] == 0], x='Population Level 2',y='Store Sales', hue= 'Year', kind = 'box')\n",
    "plt.title('Stores without Online Delivery')\n",
    "plt.show()"
   ]
  },
  {
   "cell_type": "code",
   "execution_count": 44,
   "metadata": {},
   "outputs": [
    {
     "data": {
      "text/plain": [
       "<AxesSubplot:xlabel='Median Income', ylabel='Population'>"
      ]
     },
     "execution_count": 44,
     "metadata": {},
     "output_type": "execute_result"
    },
    {
     "data": {
      "image/png": "[encoded data removed]",
      "text/plain": [
       "<Figure size 432x288 with 1 Axes>"
      ]
     },
     "metadata": {
      "needs_background": "light"
     },
     "output_type": "display_data"
    }
   ],
   "source": [
    "sns.scatterplot(data=df, x='Median Income', y='Population')"
   ]
  },
  {
   "cell_type": "code",
   "execution_count": 45,
   "metadata": {},
   "outputs": [
    {
     "data": {
      "text/plain": [
       "<AxesSubplot:xlabel='Median Income', ylabel='Population'>"
      ]
     },
     "execution_count": 45,
     "metadata": {},
     "output_type": "execute_result"
    },
    {
     "data": {
      "image/png": "[encoded data removed]",
      "text/plain": [
       "<Figure size 432x288 with 1 Axes>"
      ]
     },
     "metadata": {
      "needs_background": "light"
     },
     "output_type": "display_data"
    }
   ],
   "source": [
    "sns.scatterplot(data=df1, x='Median Income', y='Population')"
   ]
  },
  {
   "cell_type": "code",
   "execution_count": 46,
   "metadata": {},
   "outputs": [
    {
     "data": {
      "image/png": "[encoded data removed]",
      "text/plain": [
       "<Figure size 448.875x360 with 1 Axes>"
      ]
     },
     "metadata": {
      "needs_background": "light"
     },
     "output_type": "display_data"
    }
   ],
   "source": [
    "sns.catplot(data=df, x='Year',y='Store Sales', hue= 'Online Available', kind = 'box')\n",
    "plt.show()"
   ]
  },
  {
   "cell_type": "code",
   "execution_count": 47,
   "metadata": {},
   "outputs": [
    {
     "data": {
      "text/html": [
       "<div>\n",
       "<style scoped>\n",
       "    .dataframe tbody tr th:only-of-type {\n",
       "        vertical-align: middle;\n",
       "    }\n",
       "\n",
       "    .dataframe tbody tr th {\n",
       "        vertical-align: top;\n",
       "    }\n",
       "\n",
       "    .dataframe thead th {\n",
       "        text-align: right;\n",
       "    }\n",
       "</style>\n",
       "<table border=\"1\" class=\"dataframe\">\n",
       "  <thead>\n",
       "    <tr style=\"text-align: right;\">\n",
       "      <th></th>\n",
       "      <th>Population</th>\n",
       "      <th>Median Income</th>\n",
       "    </tr>\n",
       "  </thead>\n",
       "  <tbody>\n",
       "    <tr>\n",
       "      <th>count</th>\n",
       "      <td>792.000000</td>\n",
       "      <td>792.000000</td>\n",
       "    </tr>\n",
       "    <tr>\n",
       "      <th>mean</th>\n",
       "      <td>36861.333333</td>\n",
       "      <td>46428.848485</td>\n",
       "    </tr>\n",
       "    <tr>\n",
       "      <th>std</th>\n",
       "      <td>5514.398206</td>\n",
       "      <td>12044.968827</td>\n",
       "    </tr>\n",
       "    <tr>\n",
       "      <th>min</th>\n",
       "      <td>30332.000000</td>\n",
       "      <td>35905.000000</td>\n",
       "    </tr>\n",
       "    <tr>\n",
       "      <th>25%</th>\n",
       "      <td>32523.000000</td>\n",
       "      <td>40491.000000</td>\n",
       "    </tr>\n",
       "    <tr>\n",
       "      <th>50%</th>\n",
       "      <td>35166.000000</td>\n",
       "      <td>42787.000000</td>\n",
       "    </tr>\n",
       "    <tr>\n",
       "      <th>75%</th>\n",
       "      <td>40607.000000</td>\n",
       "      <td>47732.000000</td>\n",
       "    </tr>\n",
       "    <tr>\n",
       "      <th>max</th>\n",
       "      <td>50950.000000</td>\n",
       "      <td>91672.000000</td>\n",
       "    </tr>\n",
       "  </tbody>\n",
       "</table>\n",
       "</div>"
      ],
      "text/plain": [
       "         Population  Median Income\n",
       "count    792.000000     792.000000\n",
       "mean   36861.333333   46428.848485\n",
       "std     5514.398206   12044.968827\n",
       "min    30332.000000   35905.000000\n",
       "25%    32523.000000   40491.000000\n",
       "50%    35166.000000   42787.000000\n",
       "75%    40607.000000   47732.000000\n",
       "max    50950.000000   91672.000000"
      ]
     },
     "execution_count": 47,
     "metadata": {},
     "output_type": "execute_result"
    }
   ],
   "source": [
    "df1[['Population','Median Income']].describe()"
   ]
  }
 ],
 "metadata": {
  "interpreter": {
   "hash": "b85728418354703d2f8b1bce873b725c89c69c317d168995484cded2c0b98725"
  },
  "kernelspec": {
   "display_name": "Python 3.8.8 64-bit ('base': conda)",
   "name": "python3"
  },
  "language_info": {
   "codemirror_mode": {
    "name": "ipython",
    "version": 3
   },
   "file_extension": ".py",
   "mimetype": "text/x-python",
   "name": "python",
   "nbconvert_exporter": "python",
   "pygments_lexer": "ipython3",
   "version": "3.8.8"
  },
  "orig_nbformat": 4
 },
 "nbformat": 4,
 "nbformat_minor": 2
}
