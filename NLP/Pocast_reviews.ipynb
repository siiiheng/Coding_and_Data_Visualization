{
 "cells": [
  {
   "cell_type": "markdown",
   "metadata": {},
   "source": [
    "# This dataset is intentionally a subset of all of the US iTunes podcasts. "
   ]
  },
  {
   "cell_type": "code",
   "execution_count": 10,
   "metadata": {},
   "outputs": [],
   "source": [
    "import pandas as pd\n",
    "import sqlite3\n",
    "\n",
    "# Read sqlite query results into a pandas DataFrame\n",
    "con = sqlite3.connect(\"database.sqlite\")\n",
    "pod = pd.read_sql_query(\"SELECT * from podcasts\", con)\n",
    "reviews = pd.read_sql_query(\"SELECT * from reviews\", con)\n",
    "cat = pd.read_sql_query(\"SELECT * from categories\", con)"
   ]
  },
  {
   "cell_type": "code",
   "execution_count": 12,
   "metadata": {},
   "outputs": [
    {
     "data": {
      "text/plain": [
       "(109216, 5)"
      ]
     },
     "execution_count": 12,
     "metadata": {},
     "output_type": "execute_result"
    }
   ],
   "source": [
    "pod.shape"
   ]
  },
  {
   "cell_type": "code",
   "execution_count": 15,
   "metadata": {},
   "outputs": [
    {
     "data": {
      "text/html": [
       "<div>\n",
       "<style scoped>\n",
       "    .dataframe tbody tr th:only-of-type {\n",
       "        vertical-align: middle;\n",
       "    }\n",
       "\n",
       "    .dataframe tbody tr th {\n",
       "        vertical-align: top;\n",
       "    }\n",
       "\n",
       "    .dataframe thead th {\n",
       "        text-align: right;\n",
       "    }\n",
       "</style>\n",
       "<table border=\"1\" class=\"dataframe\">\n",
       "  <thead>\n",
       "    <tr style=\"text-align: right;\">\n",
       "      <th></th>\n",
       "      <th>podcast_id</th>\n",
       "      <th>itunes_id</th>\n",
       "      <th>slug</th>\n",
       "      <th>itunes_url</th>\n",
       "      <th>title</th>\n",
       "    </tr>\n",
       "  </thead>\n",
       "  <tbody>\n",
       "    <tr>\n",
       "      <th>0</th>\n",
       "      <td>a00018b54eb342567c94dacfb2a3e504</td>\n",
       "      <td>1313466221</td>\n",
       "      <td>scaling-global</td>\n",
       "      <td>https://podcasts.apple.com/us/podcast/scaling-...</td>\n",
       "      <td>Scaling Global</td>\n",
       "    </tr>\n",
       "    <tr>\n",
       "      <th>1</th>\n",
       "      <td>a00043d34e734b09246d17dc5d56f63c</td>\n",
       "      <td>158973461</td>\n",
       "      <td>cornerstone-baptist-church-of-orlando</td>\n",
       "      <td>https://podcasts.apple.com/us/podcast/cornerst...</td>\n",
       "      <td>Cornerstone Baptist Church of Orlando</td>\n",
       "    </tr>\n",
       "    <tr>\n",
       "      <th>2</th>\n",
       "      <td>a0004b1ef445af9dc84dad1e7821b1e3</td>\n",
       "      <td>139076942</td>\n",
       "      <td>mystery-dancing-in-the-dark</td>\n",
       "      <td>https://podcasts.apple.com/us/podcast/mystery-...</td>\n",
       "      <td>Mystery: Dancing in the Dark</td>\n",
       "    </tr>\n",
       "    <tr>\n",
       "      <th>3</th>\n",
       "      <td>a00071f9aaae9ac725c3a586701abf4d</td>\n",
       "      <td>1332508972</td>\n",
       "      <td>kts-money-matters</td>\n",
       "      <td>https://podcasts.apple.com/us/podcast/kts-mone...</td>\n",
       "      <td>KTs Money Matters</td>\n",
       "    </tr>\n",
       "    <tr>\n",
       "      <th>4</th>\n",
       "      <td>a000aa69852b276565c4f5eb9cdd999b</td>\n",
       "      <td>1342447811</td>\n",
       "      <td>speedway-soccer</td>\n",
       "      <td>https://podcasts.apple.com/us/podcast/speedway...</td>\n",
       "      <td>Speedway Soccer</td>\n",
       "    </tr>\n",
       "  </tbody>\n",
       "</table>\n",
       "</div>"
      ],
      "text/plain": [
       "                         podcast_id   itunes_id  \\\n",
       "0  a00018b54eb342567c94dacfb2a3e504  1313466221   \n",
       "1  a00043d34e734b09246d17dc5d56f63c   158973461   \n",
       "2  a0004b1ef445af9dc84dad1e7821b1e3   139076942   \n",
       "3  a00071f9aaae9ac725c3a586701abf4d  1332508972   \n",
       "4  a000aa69852b276565c4f5eb9cdd999b  1342447811   \n",
       "\n",
       "                                    slug  \\\n",
       "0                         scaling-global   \n",
       "1  cornerstone-baptist-church-of-orlando   \n",
       "2            mystery-dancing-in-the-dark   \n",
       "3                      kts-money-matters   \n",
       "4                        speedway-soccer   \n",
       "\n",
       "                                          itunes_url  \\\n",
       "0  https://podcasts.apple.com/us/podcast/scaling-...   \n",
       "1  https://podcasts.apple.com/us/podcast/cornerst...   \n",
       "2  https://podcasts.apple.com/us/podcast/mystery-...   \n",
       "3  https://podcasts.apple.com/us/podcast/kts-mone...   \n",
       "4  https://podcasts.apple.com/us/podcast/speedway...   \n",
       "\n",
       "                                   title  \n",
       "0                         Scaling Global  \n",
       "1  Cornerstone Baptist Church of Orlando  \n",
       "2           Mystery: Dancing in the Dark  \n",
       "3                      KTs Money Matters  \n",
       "4                        Speedway Soccer  "
      ]
     },
     "execution_count": 15,
     "metadata": {},
     "output_type": "execute_result"
    }
   ],
   "source": [
    "pod.head()"
   ]
  },
  {
   "cell_type": "code",
   "execution_count": 13,
   "metadata": {},
   "outputs": [
    {
     "data": {
      "text/plain": [
       "(2004000, 6)"
      ]
     },
     "execution_count": 13,
     "metadata": {},
     "output_type": "execute_result"
    }
   ],
   "source": [
    "reviews.shape"
   ]
  },
  {
   "cell_type": "code",
   "execution_count": 16,
   "metadata": {},
   "outputs": [
    {
     "data": {
      "text/html": [
       "<div>\n",
       "<style scoped>\n",
       "    .dataframe tbody tr th:only-of-type {\n",
       "        vertical-align: middle;\n",
       "    }\n",
       "\n",
       "    .dataframe tbody tr th {\n",
       "        vertical-align: top;\n",
       "    }\n",
       "\n",
       "    .dataframe thead th {\n",
       "        text-align: right;\n",
       "    }\n",
       "</style>\n",
       "<table border=\"1\" class=\"dataframe\">\n",
       "  <thead>\n",
       "    <tr style=\"text-align: right;\">\n",
       "      <th></th>\n",
       "      <th>podcast_id</th>\n",
       "      <th>title</th>\n",
       "      <th>content</th>\n",
       "      <th>rating</th>\n",
       "      <th>author_id</th>\n",
       "      <th>created_at</th>\n",
       "    </tr>\n",
       "  </thead>\n",
       "  <tbody>\n",
       "    <tr>\n",
       "      <th>0</th>\n",
       "      <td>c61aa81c9b929a66f0c1db6cbe5d8548</td>\n",
       "      <td>really interesting!</td>\n",
       "      <td>Thanks for providing these insights.  Really e...</td>\n",
       "      <td>5</td>\n",
       "      <td>F7E5A318989779D</td>\n",
       "      <td>2018-04-24T12:05:16-07:00</td>\n",
       "    </tr>\n",
       "    <tr>\n",
       "      <th>1</th>\n",
       "      <td>c61aa81c9b929a66f0c1db6cbe5d8548</td>\n",
       "      <td>Must listen for anyone interested in the arts!!!</td>\n",
       "      <td>Super excited to see this podcast grow. So man...</td>\n",
       "      <td>5</td>\n",
       "      <td>F6BF5472689BD12</td>\n",
       "      <td>2018-05-09T18:14:32-07:00</td>\n",
       "    </tr>\n",
       "    <tr>\n",
       "      <th>2</th>\n",
       "      <td>ad4f2bf69c72b8db75978423c25f379e</td>\n",
       "      <td>nauseatingly left</td>\n",
       "      <td>I'm a liberal myself, but its pretty obvious a...</td>\n",
       "      <td>1</td>\n",
       "      <td>1AB95B8E6E1309E</td>\n",
       "      <td>2019-06-11T14:53:39-07:00</td>\n",
       "    </tr>\n",
       "    <tr>\n",
       "      <th>3</th>\n",
       "      <td>ad4f2bf69c72b8db75978423c25f379e</td>\n",
       "      <td>Diverse stories</td>\n",
       "      <td>I find Tedx talks very inspirational but I oft...</td>\n",
       "      <td>5</td>\n",
       "      <td>11BB760AA5DEBD1</td>\n",
       "      <td>2018-05-31T13:08:09-07:00</td>\n",
       "    </tr>\n",
       "    <tr>\n",
       "      <th>4</th>\n",
       "      <td>ad4f2bf69c72b8db75978423c25f379e</td>\n",
       "      <td>👍👍👍👍</td>\n",
       "      <td>I love this podcast, it is so good.</td>\n",
       "      <td>5</td>\n",
       "      <td>D86032C8E57D15A</td>\n",
       "      <td>2019-06-19T13:56:05-07:00</td>\n",
       "    </tr>\n",
       "  </tbody>\n",
       "</table>\n",
       "</div>"
      ],
      "text/plain": [
       "                         podcast_id  \\\n",
       "0  c61aa81c9b929a66f0c1db6cbe5d8548   \n",
       "1  c61aa81c9b929a66f0c1db6cbe5d8548   \n",
       "2  ad4f2bf69c72b8db75978423c25f379e   \n",
       "3  ad4f2bf69c72b8db75978423c25f379e   \n",
       "4  ad4f2bf69c72b8db75978423c25f379e   \n",
       "\n",
       "                                              title  \\\n",
       "0                               really interesting!   \n",
       "1  Must listen for anyone interested in the arts!!!   \n",
       "2                                 nauseatingly left   \n",
       "3                                   Diverse stories   \n",
       "4                                              👍👍👍👍   \n",
       "\n",
       "                                             content  rating        author_id  \\\n",
       "0  Thanks for providing these insights.  Really e...       5  F7E5A318989779D   \n",
       "1  Super excited to see this podcast grow. So man...       5  F6BF5472689BD12   \n",
       "2  I'm a liberal myself, but its pretty obvious a...       1  1AB95B8E6E1309E   \n",
       "3  I find Tedx talks very inspirational but I oft...       5  11BB760AA5DEBD1   \n",
       "4                I love this podcast, it is so good.       5  D86032C8E57D15A   \n",
       "\n",
       "                  created_at  \n",
       "0  2018-04-24T12:05:16-07:00  \n",
       "1  2018-05-09T18:14:32-07:00  \n",
       "2  2019-06-11T14:53:39-07:00  \n",
       "3  2018-05-31T13:08:09-07:00  \n",
       "4  2019-06-19T13:56:05-07:00  "
      ]
     },
     "execution_count": 16,
     "metadata": {},
     "output_type": "execute_result"
    }
   ],
   "source": [
    "reviews.head()"
   ]
  },
  {
   "cell_type": "code",
   "execution_count": 14,
   "metadata": {},
   "outputs": [
    {
     "data": {
      "text/plain": [
       "(211243, 2)"
      ]
     },
     "execution_count": 14,
     "metadata": {},
     "output_type": "execute_result"
    }
   ],
   "source": [
    "cat.shape"
   ]
  },
  {
   "cell_type": "code",
   "execution_count": 17,
   "metadata": {},
   "outputs": [
    {
     "data": {
      "text/html": [
       "<div>\n",
       "<style scoped>\n",
       "    .dataframe tbody tr th:only-of-type {\n",
       "        vertical-align: middle;\n",
       "    }\n",
       "\n",
       "    .dataframe tbody tr th {\n",
       "        vertical-align: top;\n",
       "    }\n",
       "\n",
       "    .dataframe thead th {\n",
       "        text-align: right;\n",
       "    }\n",
       "</style>\n",
       "<table border=\"1\" class=\"dataframe\">\n",
       "  <thead>\n",
       "    <tr style=\"text-align: right;\">\n",
       "      <th></th>\n",
       "      <th>podcast_id</th>\n",
       "      <th>category</th>\n",
       "    </tr>\n",
       "  </thead>\n",
       "  <tbody>\n",
       "    <tr>\n",
       "      <th>0</th>\n",
       "      <td>c61aa81c9b929a66f0c1db6cbe5d8548</td>\n",
       "      <td>arts</td>\n",
       "    </tr>\n",
       "    <tr>\n",
       "      <th>1</th>\n",
       "      <td>c61aa81c9b929a66f0c1db6cbe5d8548</td>\n",
       "      <td>arts-performing-arts</td>\n",
       "    </tr>\n",
       "    <tr>\n",
       "      <th>2</th>\n",
       "      <td>c61aa81c9b929a66f0c1db6cbe5d8548</td>\n",
       "      <td>music</td>\n",
       "    </tr>\n",
       "    <tr>\n",
       "      <th>3</th>\n",
       "      <td>ad4f2bf69c72b8db75978423c25f379e</td>\n",
       "      <td>arts</td>\n",
       "    </tr>\n",
       "    <tr>\n",
       "      <th>4</th>\n",
       "      <td>ad4f2bf69c72b8db75978423c25f379e</td>\n",
       "      <td>arts-design</td>\n",
       "    </tr>\n",
       "  </tbody>\n",
       "</table>\n",
       "</div>"
      ],
      "text/plain": [
       "                         podcast_id              category\n",
       "0  c61aa81c9b929a66f0c1db6cbe5d8548                  arts\n",
       "1  c61aa81c9b929a66f0c1db6cbe5d8548  arts-performing-arts\n",
       "2  c61aa81c9b929a66f0c1db6cbe5d8548                 music\n",
       "3  ad4f2bf69c72b8db75978423c25f379e                  arts\n",
       "4  ad4f2bf69c72b8db75978423c25f379e           arts-design"
      ]
     },
     "execution_count": 17,
     "metadata": {},
     "output_type": "execute_result"
    }
   ],
   "source": [
    "cat.head()"
   ]
  },
  {
   "cell_type": "code",
   "execution_count": null,
   "metadata": {},
   "outputs": [],
   "source": []
  }
 ],
 "metadata": {
  "kernelspec": {
   "display_name": "Python 3",
   "language": "python",
   "name": "python3"
  },
  "language_info": {
   "codemirror_mode": {
    "name": "ipython",
    "version": 3
   },
   "file_extension": ".py",
   "mimetype": "text/x-python",
   "name": "python",
   "nbconvert_exporter": "python",
   "pygments_lexer": "ipython3",
   "version": "3.8.5"
  }
 },
 "nbformat": 4,
 "nbformat_minor": 4
}
